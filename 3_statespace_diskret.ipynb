{
 "cells": [
  {
   "cell_type": "code",
   "execution_count": 1,
   "id": "a239efa6-2f67-429b-b518-7887aeb33360",
   "metadata": {
    "slideshow": {
     "slide_type": "skip"
    }
   },
   "outputs": [],
   "source": [
    "# Generelle moduler og funksjonsbeskrivelser brukt i forelesningen\n",
    "from numpy import sin, cos, pi, exp, angle, abs, unwrap, log10\n",
    "import numpy as np\n",
    "import scipy.signal as sig\n",
    "import matplotlib.pyplot as plt\n",
    "\n",
    "plt.rcParams[\"figure.figsize\"] = [8.00, 4.5]\n",
    "plt.rcParams[\"figure.autolayout\"] = True\n",
    "plt.rcParams[\"axes.grid\"] = True\n",
    "plt.rcParams[\"axes.xmargin\"] = 0.0\n",
    "\n",
    "%matplotlib inline"
   ]
  },
  {
   "cell_type": "markdown",
   "id": "049baf46-e15f-4458-b5c4-643431a0b526",
   "metadata": {
    "slideshow": {
     "slide_type": "slide"
    }
   },
   "source": [
    "<img src=\"Figurer/NTNU_Logo.png\" align=\"left\" width=\"30%\">\n",
    "<br clear=\"all\" />\n",
    "<br></br>\n",
    "\n",
    "# Diskretisering time 3 -  *diskrete LTI-system i tilstandsrommet*\n",
    "\n",
    "* **Emne: AIS2102 - Dynamiske system**\n",
    "* ***dato***: 3. februar 2025\n",
    "* **Foreleser: Kai Erik Hoff**"
   ]
  },
  {
   "cell_type": "markdown",
   "id": "76f346ba-f2d8-46ab-9d45-e37862c6e305",
   "metadata": {},
   "source": [
    "# Differensialligning tidskontinuerlige system"
   ]
  },
  {
   "cell_type": "markdown",
   "id": "87055069-7e8e-4f63-b6ac-6e6c2abae751",
   "metadata": {},
   "source": [
    "# Tilstandsrom for tidskontinuerlige system\n",
    "\n",
    "\n",
    "* Ligninger:\n",
    "\n",
    "$$\\begin{align}\n",
    "\\boldsymbol{\\dot{x}}(t) &= \\boldsymbol{A}\\cdot \\boldsymbol{x}(t) + \\boldsymbol{B}\\cdot \\boldsymbol{u}(t)\\\\\n",
    "\\boldsymbol{y}(t) &= \\boldsymbol{C}\\cdot \\boldsymbol{x}(t) + \\boldsymbol{D}\\cdot \\boldsymbol{u}(t)\n",
    "\\end{align}$$"
   ]
  },
  {
   "cell_type": "markdown",
   "id": "f5a3ea9a-5218-449c-aecb-0deeb612998a",
   "metadata": {},
   "source": []
  },
  {
   "cell_type": "markdown",
   "id": "c883fc46-bdbe-4a8b-a98e-89318ac0034f",
   "metadata": {},
   "source": [
    "# Differanseligning for tidsdiskrete system"
   ]
  },
  {
   "cell_type": "markdown",
   "id": "c8a674b1-b36d-4826-94de-fd9dff089d8a",
   "metadata": {},
   "source": [
    "# Tilstandsrom for tidsdiskrete system\n",
    "\n",
    "* Ligninger:\n",
    "$$\\begin{align}\n",
    "\\boldsymbol{x}[k+1] &= \\boldsymbol{A}\\cdot \\boldsymbol{x}[k] + \\boldsymbol{B}\\cdot \\boldsymbol{u}[k] \\\\\n",
    "\\boldsymbol{y}[k] &= \\boldsymbol{C}\\cdot \\boldsymbol{x}[k] + \\boldsymbol{D}\\cdot \\boldsymbol{u}[k]\n",
    "\\end{align}$$\n",
    "\n",
    "[FIGUR]"
   ]
  },
  {
   "cell_type": "code",
   "execution_count": null,
   "id": "8491ba52-e32c-44a6-9bc2-e24dac501d54",
   "metadata": {},
   "outputs": [],
   "source": []
  }
 ],
 "metadata": {
  "kernelspec": {
   "display_name": "Python 3 (ipykernel)",
   "language": "python",
   "name": "python3"
  },
  "language_info": {
   "codemirror_mode": {
    "name": "ipython",
    "version": 3
   },
   "file_extension": ".py",
   "mimetype": "text/x-python",
   "name": "python",
   "nbconvert_exporter": "python",
   "pygments_lexer": "ipython3",
   "version": "3.11.5"
  }
 },
 "nbformat": 4,
 "nbformat_minor": 5
}
