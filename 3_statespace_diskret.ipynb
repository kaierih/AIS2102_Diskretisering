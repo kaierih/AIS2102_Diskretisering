{
 "cells": [
  {
   "cell_type": "code",
   "execution_count": 2,
   "id": "a239efa6-2f67-429b-b518-7887aeb33360",
   "metadata": {
    "slideshow": {
     "slide_type": "skip"
    }
   },
   "outputs": [],
   "source": [
    "# Generelle moduler og funksjonsbeskrivelser brukt i forelesningen\n",
    "from numpy import sin, cos, pi, exp, angle, abs, unwrap, log10\n",
    "import numpy as np\n",
    "import scipy.signal as sig\n",
    "import matplotlib.pyplot as plt\n",
    "\n",
    "plt.rcParams[\"figure.figsize\"] = [8.00, 4.5]\n",
    "plt.rcParams[\"figure.autolayout\"] = True\n",
    "plt.rcParams[\"axes.grid\"] = True\n",
    "plt.rcParams[\"axes.xmargin\"] = 0.0\n",
    "\n",
    "%matplotlib inline"
   ]
  },
  {
   "cell_type": "markdown",
   "id": "049baf46-e15f-4458-b5c4-643431a0b526",
   "metadata": {
    "slideshow": {
     "slide_type": "slide"
    }
   },
   "source": [
    "<img src=\"Figurer/NTNU_Logo.png\" align=\"left\" width=\"30%\">\n",
    "<br clear=\"all\" />\n",
    "<br></br>\n",
    "\n",
    "# Diskretisering time 3 -  *diskrete LTI-system i tilstandsrommet*\n",
    "\n",
    "* **Emne: AIS2102 - Dynamiske system**\n",
    "* ***dato***: 3. februar 2025\n",
    "* **Foreleser: Kai Erik Hoff**"
   ]
  },
  {
   "cell_type": "markdown",
   "id": "6014cc55-9260-4680-94b9-dde7ea806688",
   "metadata": {},
   "source": [
    "# Representasjoner av LTI-system"
   ]
  },
  {
   "cell_type": "markdown",
   "id": "c8b84c00-0cfc-42fa-97fb-339697833e43",
   "metadata": {},
   "source": [
    "* Tre ulike måter å representere et tidskontinuerlig LTI-system på:\n",
    "    1. Differensialligning\n",
    "    2. Transferfunksjon vha. laplacetransformasjon\n",
    "    3. Tilstandsrom"
   ]
  },
  {
   "cell_type": "markdown",
   "id": "d3262969-1ec0-4047-ad7a-225d264b866a",
   "metadata": {},
   "source": [
    "* Tre ulike måtere å representere et tidsdiskret LTI-system på:\n",
    "    1. Differanseligning\n",
    "    2. Transferfunksjon vha. $z$-transformasjon\n",
    "    3. Diskret Tilstandsrom"
   ]
  },
  {
   "cell_type": "markdown",
   "id": "029a488b-bb34-4250-aeb8-28553313fa47",
   "metadata": {},
   "source": [
    "Som vi skal se i dag interagerer de ulike representasjonene av et tidsdiskret system på en måte som er veldig lik måten de ulike representasjonene av et tidskontinuerlig system interager med hverandre. Dette betyr at vi *nesten* kan kopiere de samme regnereglene og metodene vi har lært for tidskontinuerlige system og anvende de for diskrete system, men det er et par ulikheter det er viktig å være obs på."
   ]
  },
  {
   "cell_type": "markdown",
   "id": "76f346ba-f2d8-46ab-9d45-e37862c6e305",
   "metadata": {},
   "source": [
    "# Differensialligning tidskontinuerlige system\n",
    "\n"
   ]
  },
  {
   "cell_type": "markdown",
   "id": "99227885-db83-464f-a943-3632f49b450a",
   "metadata": {},
   "source": [
    "* Ligning:\n",
    "$$\n",
    "\\begin{align}\n",
    "a_0 \\cdot y^{(N)}(t) + a_1 \\cdot y/( + \\ldots + a_N \\cdot y[k-N] &= b_0 \\cdot u[k] + b_1 \\cdot u[k-1] + \\ldots + b_M \\cdot u[k-M]\\\\\n",
    "\\sum_{i=0}^{N} a_i \\cdot y[k-i] &= \\sum_{i=0}^{M} b_i \\cdot u[k-i]\n",
    "\\end{align}\n",
    "$$"
   ]
  },
  {
   "cell_type": "markdown",
   "id": "d5f4a3af-abb0-4596-b13f-2e4fc7088bf7",
   "metadata": {},
   "source": [
    "# Transferfunksjon for tidskontinuerlige system"
   ]
  },
  {
   "cell_type": "markdown",
   "id": "87055069-7e8e-4f63-b6ac-6e6c2abae751",
   "metadata": {},
   "source": [
    "# Tilstandsrom for tidskontinuerlige system\n",
    "\n",
    "\n",
    "* Ligninger:\n",
    "\n",
    "$$\\begin{align}\n",
    "\\boldsymbol{\\dot{x}}(t) &= \\boldsymbol{A}\\cdot \\boldsymbol{x}(t) + \\boldsymbol{B}\\cdot \\boldsymbol{u}(t)\\\\\n",
    "\\boldsymbol{y}(t) &= \\boldsymbol{C}\\cdot \\boldsymbol{x}(t) + \\boldsymbol{D}\\cdot \\boldsymbol{u}(t)\n",
    "\\end{align}$$"
   ]
  },
  {
   "cell_type": "markdown",
   "id": "f5a3ea9a-5218-449c-aecb-0deeb612998a",
   "metadata": {},
   "source": [
    "* Systemmodell\n",
    "\n",
    "<img src=\"Figurer/statespace/ss_cont.png\" style=\"width: 60%; margin-left: 15%\" />"
   ]
  },
  {
   "cell_type": "markdown",
   "id": "c679cc9b-f797-4b5c-954a-7eeda9e24c61",
   "metadata": {},
   "source": [
    "## Bruk av de ulike representasjonene i Python"
   ]
  },
  {
   "cell_type": "code",
   "execution_count": null,
   "id": "8be7e038-b247-4470-ba12-e221eb7bb1c5",
   "metadata": {},
   "outputs": [],
   "source": []
  },
  {
   "cell_type": "markdown",
   "id": "c883fc46-bdbe-4a8b-a98e-89318ac0034f",
   "metadata": {},
   "source": [
    "# Differanseligning for tidsdiskrete system"
   ]
  },
  {
   "cell_type": "markdown",
   "id": "d1794578-f3e4-460c-85d0-7400604a21b0",
   "metadata": {},
   "source": [
    "* Ligning:\n",
    "$$\n",
    "\\begin{align}\n",
    "a_0 \\cdot y[k] + a_1 \\cdot y[k-1] + \\ldots + a_N \\cdot y[k-N] &= b_0 \\cdot u[k] + b_1 \\cdot u[k-1] + \\ldots + b_M \\cdot u[k-M]\\\\\n",
    "\\sum_{i=0}^{N} a_i \\cdot y[k-i] &= \\sum_{i=0}^{M} b_i \\cdot u[k-i]\n",
    "\\end{align}\n",
    "$$"
   ]
  },
  {
   "cell_type": "markdown",
   "id": "5cdd419f-1f6b-4ed2-9c85-e2b2cf4c39a9",
   "metadata": {},
   "source": [
    "* Blokkskjema-representasjon\n",
    "\n",
    "<img src=\"Figurer/discrete_LTI/df1.png\" style=\"width: 60%; margin-left: 14%\" />"
   ]
  },
  {
   "cell_type": "markdown",
   "id": "c8a674b1-b36d-4826-94de-fd9dff089d8a",
   "metadata": {},
   "source": [
    "# Tilstandsrom for tidsdiskrete system\n",
    "\n",
    "\n"
   ]
  },
  {
   "cell_type": "markdown",
   "id": "909704f4-ec85-4de5-a83b-530486f3c310",
   "metadata": {},
   "source": [
    "\n",
    "* Ligninger:\n",
    "$$\\begin{align}\n",
    "\\boldsymbol{x}[k+1] &= \\boldsymbol{A}_d\\cdot \\boldsymbol{x}[k] + \\boldsymbol{B}_d\\cdot \\boldsymbol{u}[k] \\\\\n",
    "\\boldsymbol{y}[k] &= \\boldsymbol{C}_d\\cdot \\boldsymbol{x}[k] + \\boldsymbol{D}_d\\cdot \\boldsymbol{u}[k]\n",
    "\\end{align}$$"
   ]
  },
  {
   "cell_type": "markdown",
   "id": "09c5f5fd-29df-4a3a-a207-f06f4b5aa88a",
   "metadata": {},
   "source": [
    "* Systemmodell\n",
    "\n",
    "<img src=\"Figurer/statespace/ss_disc.png\" style=\"width: 60%; margin-left: 15%\" />"
   ]
  },
  {
   "cell_type": "markdown",
   "id": "289e5c80-8971-48fc-86b8-f0a69d332722",
   "metadata": {},
   "source": [
    "Tilstandsrom-modellen fungerer veldig likt både for tiskontinuerlige og tidsdiskrete system. Det eneste som er ulikt er at istedenfor å integrere tilstandsvektoren, så vil den diskrete modellen forsinke tilstandsvektoren med én sample ($\\frac{1}{z}$). $z$ er for øvrig den komplekse variabelen som er basis for z-transformasjon."
   ]
  },
  {
   "cell_type": "markdown",
   "id": "0e058d09-393f-4724-83b9-78e13d6bbf47",
   "metadata": {},
   "source": [
    "## Bruk av de ulike representasjonene i Python"
   ]
  },
  {
   "cell_type": "code",
   "execution_count": null,
   "id": "e1d92547-a426-4a06-ba65-489dd6880a09",
   "metadata": {},
   "outputs": [],
   "source": []
  },
  {
   "cell_type": "markdown",
   "id": "8c129b79-45c0-452f-bf2b-9d9da138e219",
   "metadata": {},
   "source": [
    "# Differanseligning $\\rightarrow$ tilstandsrom"
   ]
  },
  {
   "cell_type": "markdown",
   "id": "111a68b3-8560-42af-adea-689d6cc21334",
   "metadata": {},
   "source": [
    "### Eksempel:\n",
    "\n",
    "* Finn matrisene $\\boldsymbol{A}_d$, $\\boldsymbol{B}_d$, $\\boldsymbol{C}_d$, $\\boldsymbol{D}_d$ for tilstandsrom-modellen til følgende differanseligning:\n",
    "$$y[k] - 0.8 \\cdot y[k-1] + 0.64 \\cdot y[k-2] = 0.2\\cdot u[k-2]$$"
   ]
  },
  {
   "cell_type": "code",
   "execution_count": 22,
   "id": "d1f0106a-df3d-45c0-bb88-13061a4ac6a9",
   "metadata": {},
   "outputs": [
    {
     "data": {
      "text/plain": [
       "Text(0.5, 0, 'Samplenummer $k$')"
      ]
     },
     "execution_count": 22,
     "metadata": {},
     "output_type": "execute_result"
    },
    {
     "data": {
      "image/png": "[encoded data removed]",
      "text/plain": [
       "<Figure size 800x450 with 1 Axes>"
      ]
     },
     "metadata": {},
     "output_type": "display_data"
    }
   ],
   "source": [
    "# Verifikasjon av utregning\n",
    "a = [1, -0.8, 0.64]\n",
    "b = [0, 0, 0.2]\n",
    "\n",
    "A = np.array([[0, 1],\n",
    "              [-0.64, 0.8]])\n",
    "B = np.array([[0],\n",
    "              [1]])\n",
    "C = np.array([[0.2, 0]])\n",
    "D = np.array([[0]])\n",
    "\n",
    "sys1 = sig.TransferFunction(b, a, dt=1)\n",
    "sys2 = sig.StateSpace(A, B, C, D, dt=1)\n",
    "k, x1 = sys1.step()\n",
    "k, x2 = sys2.step()\n",
    "x1, x2 = x1[0].flatten(), x2[0].flatten()\n",
    "plt.stem(k, x1, markerfmt='oC0', label=\"TransferFunction\")\n",
    "plt.stem(k, x2, markerfmt='xC1', label=\"StateSpace\")\n",
    "plt.legend()\n",
    "plt.title(\"Stegrespons for system med to ulike representasjoner\")\n",
    "plt.xlabel(\"Samplenummer $k$\")"
   ]
  },
  {
   "cell_type": "markdown",
   "id": "4100eda6-ac73-4a1d-a0be-5462d1f9df75",
   "metadata": {},
   "source": [
    "# Differanseligning $\\rightarrow$ tilstandsrom\n",
    "\n",
    "### Fra koeffisienter til matriser (en av flere muligheter)"
   ]
  },
  {
   "cell_type": "markdown",
   "id": "86e34ede-232b-4ef0-af3d-f1155152a886",
   "metadata": {},
   "source": [
    "* Dersom koeffisienten $b_0=0$:\n",
    "$$\\begin{align}\n",
    "&\\boldsymbol{A}_d= \n",
    "\\begin{bmatrix} \n",
    "0 & 1 & 0 & \\cdots \\\\\n",
    "0 & 0 & 1 & \\cdots \\\\\n",
    "\\vdots & \\vdots & \\vdots & \\ddots \\\\\n",
    "-\\frac{a_N}{a_0} & -\\frac{a_{N-1}}{a_0} & -\\frac{a_{N-2}}{a_0} & \\cdots\n",
    "\\end{bmatrix}\n",
    ", &\\boldsymbol{B}_d = \n",
    "\\begin{bmatrix}\n",
    "0 \\\\ 0 \\\\ \\vdots \\\\ 1\n",
    "\\end{bmatrix}\n",
    ",\\\\  & \\boldsymbol{C}_d = \n",
    "\\begin{bmatrix}\n",
    "b_1 & b_2 & \\cdots & b_N\n",
    "\\end{bmatrix}\n",
    ", &\\boldsymbol{D}_d = 0 \\ \\ \\ \\ \\ \\ \n",
    "\\end{align}$$"
   ]
  },
  {
   "cell_type": "markdown",
   "id": "2b01d431-24f4-40e6-9176-c6b230a89e95",
   "metadata": {},
   "source": [
    "* For $b_0 \\neq 0$:\n",
    "\n",
    "$$\\begin{align}\n",
    "\\boldsymbol{A}_d &= \n",
    "\\begin{bmatrix} \n",
    "0 & 1 & 0 & \\cdots \\\\\n",
    "0 & 0 & 1 & \\cdots \\\\\n",
    "\\vdots & \\vdots & \\vdots & \\ddots \\\\\n",
    "-\\frac{a_N}{a_0} & -\\frac{a_{N-1}}{a_0} & -\\frac{a_{N-2}}{a_0} & \\cdots\n",
    "\\end{bmatrix}\n",
    ", &\\boldsymbol{B}_d = \n",
    "\\begin{bmatrix}\n",
    "0 \\\\ 0 \\\\ \\vdots \\\\ 1\n",
    "\\end{bmatrix}\n",
    ",\\\\  \\boldsymbol{C}_d &= \n",
    "\\begin{bmatrix}\n",
    "\\left(b_1-b_0\\frac{a_1}{a_0}\\right) & \\left(b_2-b_0\\frac{a_2}{a_0}\\right) & \\cdots & \\left(b_N-b_0\\frac{a_N}{a_0}\\right)\n",
    "\\end{bmatrix}\n",
    ", &\\boldsymbol{D}_d = \\frac{b_0}{a_0}\\ \\ \n",
    "\\end{align}$$"
   ]
  },
  {
   "cell_type": "markdown",
   "id": "eb28bf56-4d4a-432e-9308-8abce52c6f98",
   "metadata": {},
   "source": [
    "# Tilstandsrom $\\rightarrow$ transferfunksjon\n"
   ]
  },
  {
   "cell_type": "markdown",
   "id": "bdfc40c2-3be0-4830-bf39-5654b4c41b74",
   "metadata": {},
   "source": [
    "* Transferfunksjonen til tidsdiskrete system er definert i $z$-planet\n",
    "    - Alle poler og nullpunkt som tilhører systemet vil ha en bestemt kompleks verdi i $z$-planet"
   ]
  },
  {
   "cell_type": "markdown",
   "id": "ba87fe18-f21d-454f-907a-865b1e645ce4",
   "metadata": {},
   "source": [
    "\n",
    "* Uttrykk for å konvertere tilstandsrommodell til transferfunksjon $H(z)$:\n",
    "$$ \\Large H(z) = \\boldsymbol{C}_d\\cdot (z\\cdot \\boldsymbol{I}-\\boldsymbol{A}_d)^{-1}\\cdot \\boldsymbol{B}_d + \\boldsymbol{D}_d$$\n",
    "    - Formelen er identisk til den som gjelder for tidskontinuerlige system. Den eneste forskjellen er bruken av $z$ istedenfor $s$."
   ]
  },
  {
   "cell_type": "markdown",
   "id": "5570d355-e707-45f7-b729-04830f321f48",
   "metadata": {},
   "source": [
    "# Hvorfor bry seg om tilstandsrom?"
   ]
  },
  {
   "cell_type": "markdown",
   "id": "959479d3-faaf-48e8-bf87-1a567152447a",
   "metadata": {},
   "source": [
    "* Tilbyr et enklere utgangspunkt for å diskreteisere høyereordens system"
   ]
  },
  {
   "cell_type": "markdown",
   "id": "8638a35b-fefc-4b94-a663-d41e07b91a3b",
   "metadata": {},
   "source": [
    "* Typisk diskretiseringsprosess:\n",
    "[FIGUR]"
   ]
  },
  {
   "cell_type": "markdown",
   "id": "dae5c0b6-43f9-4e9e-917a-9869e99745ca",
   "metadata": {},
   "source": [
    "# Aller enkleste metode for diskretisering: foroverdifferanse\n",
    "* aka. Eulers metode, Eksplisitt Euler etc.."
   ]
  },
  {
   "cell_type": "markdown",
   "id": "922bdf6d-1fe0-44ad-9349-9707c065c522",
   "metadata": {},
   "source": [
    "* Førsteordens Runge-Kutta metode\n",
    "    - [Runge-Kutta](https://en.wikipedia.org/wiki/Runge%E2%80%93Kutta_methods) er en gruppe metode for numerisk løsning av differensialligninger."
   ]
  },
  {
   "cell_type": "markdown",
   "id": "1b07749e-f08e-4fd9-8f83-99ece6bd38c6",
   "metadata": {},
   "source": [
    "## Diskretisering av tilstandsrommodell med Forward Euler"
   ]
  },
  {
   "cell_type": "markdown",
   "id": "bb1954c7-806c-4318-94de-f9fe298ee99a",
   "metadata": {},
   "source": [
    "\n",
    "\n",
    "$$\n",
    "\\begin{align}\n",
    "    \\dot{x}(t) &= A \\cdot x(t) + B \\cdot u(t) \\\\\n",
    "    &\\Downarrow \\quad t = k \\cdot T_s \\\\\n",
    "    \\dot{x}(k \\cdot T_s) &= A \\cdot x(k \\cdot T_s) + B \\cdot u(k \\cdot T_s) \\\\\n",
    "    &\\Downarrow \\quad \\dot{x}(k \\cdot T_s) \\approx \\frac{x[k+1] - x[k]}{T_s}, \\ \\ \\ x(k\\cdot T_s) = x[k] \\\\\n",
    "    \\frac{x[k+1] - x[k]}{T_s} &= A \\cdot x[k] + B \\cdot u[k] \\\\\n",
    "    x[k+1] - x[k] &= T_s \\cdot (A \\cdot x[k] + B \\cdot u[k]) \\\\\n",
    "    x[k+1] &= (I + T_s \\cdot A) \\cdot x[k] + T_s \\cdot B \\cdot u[k]\n",
    "\\end{align}\n",
    "$$"
   ]
  },
  {
   "cell_type": "markdown",
   "id": "f0b2584a-f944-4e81-89d2-07670bfcdf12",
   "metadata": {},
   "source": [
    "## Diskretisering av tilstandsrommodell med Forward Euler"
   ]
  },
  {
   "cell_type": "markdown",
   "id": "99f3b13d-d633-41ac-a015-a9439760d557",
   "metadata": {},
   "source": [
    "$$\n",
    "\\begin{align}\n",
    "    A_d &= (I + T_s \\cdot A) \\\\\n",
    "    B_d &= T_s \\cdot B \\\\\n",
    "    C_d &= C \\\\\n",
    "    D_d &= D\n",
    "\\end{align}\n",
    "$$"
   ]
  },
  {
   "cell_type": "markdown",
   "id": "4441a272-1cd9-48e2-a125-79853bddce1e",
   "metadata": {},
   "source": [
    "## Eksempel:\n",
    "1. Benytt forward euler og backward euler diskretisering for å finne en tidsdiskret tilnærming til systemet\n",
    "$$20 \\cdot \\ddot{y}(t) + 4 \\cdot \\dot{y}(t) + 30 \\cdot y(t) = u(t)$$\n",
    "der $T_s = 0.05$ sekund.\n",
    "    - Bruk så Python/MATLAB til å generere sprangresponsen til både det kontinuerlige systemet og det diskretiserte systemet."
   ]
  },
  {
   "cell_type": "code",
   "execution_count": null,
   "id": "635aeb65-b0f8-4c11-ae48-5d6e01454262",
   "metadata": {},
   "outputs": [],
   "source": []
  },
  {
   "cell_type": "markdown",
   "id": "f58a9489-89a6-4740-b9e2-35badbb20a5f",
   "metadata": {},
   "source": [
    "2. Utfør diskretisering av samme system, men med skrittlengde $T_s = 0.2$ sekund. Hva skjer?"
   ]
  },
  {
   "cell_type": "code",
   "execution_count": null,
   "id": "5ad79fd1-baf9-49b5-8b34-cac31964e656",
   "metadata": {},
   "outputs": [],
   "source": []
  },
  {
   "cell_type": "markdown",
   "id": "a4837ed6-b9d3-4ac5-9d31-8a3e85c80c0b",
   "metadata": {},
   "source": [
    "# Refleksjoner\n"
   ]
  },
  {
   "cell_type": "markdown",
   "id": "b3f45b93-ea45-42bd-a388-e8e521cb2474",
   "metadata": {},
   "source": [
    "* Forward euler er enkel, men også den mest unøyaktige metoden for diskretisering. Det er også en risiko for at systemet blir ustabilt.\n",
    "    - OK å bruke dersom sampletid $T_s$ er veldig lav"
   ]
  },
  {
   "cell_type": "markdown",
   "id": "231f2578-d269-4b2e-8c08-cd5de02c04cf",
   "metadata": {},
   "source": [
    "* Vi trenger en måte å analysere et tidsdiskret system mtp. stabilitet"
   ]
  },
  {
   "cell_type": "markdown",
   "id": "938557e0-9fd2-4ebf-8825-fe21ba6af250",
   "metadata": {},
   "source": [
    "* Vi bør finne mere nøyaktige diskretiseringsmetoder som kan brukes når sampletid er en begrenset ressurs"
   ]
  },
  {
   "cell_type": "markdown",
   "id": "457b58b9-6447-42a5-99a5-77ba0db5c86f",
   "metadata": {},
   "source": [
    "* $z$-transformasjon tilbyr løsningen på begge overnevnte problem"
   ]
  }
 ],
 "metadata": {
  "kernelspec": {
   "display_name": "Python 3 (ipykernel)",
   "language": "python",
   "name": "python3"
  },
  "language_info": {
   "codemirror_mode": {
    "name": "ipython",
    "version": 3
   },
   "file_extension": ".py",
   "mimetype": "text/x-python",
   "name": "python",
   "nbconvert_exporter": "python",
   "pygments_lexer": "ipython3",
   "version": "3.12.2"
  }
 },
 "nbformat": 4,
 "nbformat_minor": 5
}
