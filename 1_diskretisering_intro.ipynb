{
 "cells": [
  {
   "cell_type": "code",
   "execution_count": 2,
   "metadata": {},
   "outputs": [],
   "source": [
    "# Generelle moduler og funksjonsbeskrivelser brukt i forelesningen\n",
    "from numpy import sin, cos, pi, exp\n",
    "import numpy as np\n",
    "import scipy.signal as sig\n",
    "import matplotlib.pyplot as plt\n",
    "\n",
    "plt.rcParams[\"figure.figsize\"] = [8.00, 4.5]\n",
    "plt.rcParams[\"figure.autolayout\"] = True\n",
    "plt.rcParams[\"axes.grid\"] = True\n",
    "plt.rcParams[\"axes.xmargin\"] = 0.0\n",
    "\n",
    "%matplotlib ipympl"
   ]
  },
  {
   "cell_type": "markdown",
   "metadata": {
    "slideshow": {
     "slide_type": "slide"
    }
   },
   "source": [
    "<img src=\"Figurer/NTNU_Logo.png\" align=\"left\" width=\"30%\">\n",
    "<br clear=\"all\" />\n",
    "<br></br>\n",
    "\n",
    "# Intro til tidsdiskrete system\n",
    "\n",
    "* **Emne: AIS2102 - Dynamiske system**\n",
    "* ***dato***: 22. januar 2025\n",
    "* **Foreleser: Kai Erik Hoff**"
   ]
  },
  {
   "cell_type": "markdown",
   "metadata": {
    "slideshow": {
     "slide_type": "slide"
    }
   },
   "source": [
    "# Hvorfor diskretisering?\n",
    "<br>\n",
    "<br>\n",
    "<img src=\"Figurer/intro/disc_loop_1.png\" style=\"width: 80%; margin-left: 10%\" />"
   ]
  },
  {
   "cell_type": "markdown",
   "metadata": {
    "slideshow": {
     "slide_type": "fragment"
    }
   },
   "source": [
    "* *Hvordan kan vi programmere en digital enhet til å gjengi egenskapene gitt av en differensiallikning på en god måte?*"
   ]
  },
  {
   "cell_type": "markdown",
   "metadata": {
    "slideshow": {
     "slide_type": "slide"
    }
   },
   "source": [
    "# Tre mulige formål med diskretisering:"
   ]
  },
  {
   "cell_type": "markdown",
   "metadata": {
    "slideshow": {
     "slide_type": "fragment"
    }
   },
   "source": [
    "1. Diskretisere regulatoren $G_c(s)$ slik at den kan programmeres på f.eks. en mikrokontroller."
   ]
  },
  {
   "cell_type": "markdown",
   "metadata": {
    "slideshow": {
     "slide_type": "fragment"
    }
   },
   "source": [
    "2. Diskretisere prosessen $G_p(s)$ for å kunne analysere regulatorsløyfen etter diskretisering."
   ]
  },
  {
   "cell_type": "markdown",
   "metadata": {
    "slideshow": {
     "slide_type": "fragment"
    }
   },
   "source": [
    "3. For å kunne simulere regulatorsløyfen (program som f.eks. Simulink gjør diskretisering for oss)."
   ]
  },
  {
   "cell_type": "markdown",
   "metadata": {
    "slideshow": {
     "slide_type": "slide"
    }
   },
   "source": [
    "# Arbeider og pensumlitteratur"
   ]
  },
  {
   "cell_type": "markdown",
   "metadata": {
    "slideshow": {
     "slide_type": "fragment"
    }
   },
   "source": [
    "* Arbeider\n",
    "    - Én obligatorisk regneøving (frist i kalenderuke 6)\n",
    "    - Én laboppgave med rapport (inngår i mappen)\n",
    "        * Frist i kalenderuke 8\n",
    "        * Utføres i grupper på 2"
   ]
  },
  {
   "cell_type": "markdown",
   "metadata": {
    "slideshow": {
     "slide_type": "slide"
    }
   },
   "source": [
    "* Faglitteratur\n",
    "    - [Discrete-time signals and systems](https://techteach.no/publications/discretetime_signals_systems/discrete.pdf)<br>av Finn Haugen\n",
    "    - (Kapittel 13, Control Systems Engineering, Norman Nise)<br>Relevant men ikke påkrevd\n",
    "    - [Videoserie om Diskrét Reguleringsteknikk av Brian Douglas](https://www.youtube.com/playlist?list=PLUMWjy5jgHK0MLv6Ksf-NHi7Ur8NRNU4Z)"
   ]
  },
  {
   "cell_type": "markdown",
   "metadata": {
    "slideshow": {
     "slide_type": "slide"
    }
   },
   "source": [
    "# Tema:\n",
    "\n",
    "* <font color=\"d62728\">Intro til \"Hybridsystem\"</font>\n",
    "* Uniform Sampling (A/D omforming)\n",
    "* Rekonstruksjon (D/A omforming)\n",
    "* Aliasing\n",
    "* Kvantisering"
   ]
  },
  {
   "cell_type": "markdown",
   "metadata": {
    "slideshow": {
     "slide_type": "slide"
    }
   },
   "source": [
    "# Arbeidsflyt digital regulator (Arduino)\n"
   ]
  },
  {
   "cell_type": "markdown",
   "metadata": {
    "slideshow": {
     "slide_type": "fragment"
    }
   },
   "source": [
    "```cpp\n",
    "int inputValue = analogRead(inputPin); // A/D conversion\n",
    "int outputValue = doControllerStuff(inputValue); // Evaluate output of G_c(z)\n",
    "analogWrite(outputPin, outputValue); // D/A conversion\n",
    "```\n",
    "\n",
    "* Hver operasjon utføres sekvensielt, ved diskréte tidspunkt."
   ]
  },
  {
   "cell_type": "markdown",
   "metadata": {
    "slideshow": {
     "slide_type": "fragment"
    }
   },
   "source": [
    "* Hver av operasjonene får sin egen systemblokk i en systemmodell.\n",
    "\n",
    "<img src=\"Figurer/intro/disc_reg_1.png\" style=\"width: 60%; margin-left: 20%\" />"
   ]
  },
  {
   "cell_type": "markdown",
   "metadata": {
    "slideshow": {
     "slide_type": "slide"
    }
   },
   "source": [
    "# Hybridsystem\n",
    "\n",
    "<img src=\"Figurer/intro/hybrid_sys_1.png\" style=\"width: 90%; margin-left: 5%\" />"
   ]
  },
  {
   "cell_type": "markdown",
   "metadata": {
    "slideshow": {
     "slide_type": "fragment"
    }
   },
   "source": [
    "* Sammensetning av *tidskontinuerlige* system ($G_p(s)$) og *tidsdiskrete* system ($G_c(z)$)"
   ]
  },
  {
   "cell_type": "markdown",
   "metadata": {
    "slideshow": {
     "slide_type": "slide"
    }
   },
   "source": [
    "# Fokus for diskretiseringsmodul\n",
    "<img src=\"Figurer/intro/disc_reg_2.png\" style=\"width: 60%; margin-left: 20%\" />"
   ]
  },
  {
   "cell_type": "markdown",
   "metadata": {
    "slideshow": {
     "slide_type": "fragment"
    }
   },
   "source": [
    "* Oppgave: sørge for at det digitale LTI-systemet oppnår *tilnærmet* samme egenskaper som $G(s)$"
   ]
  },
  {
   "cell_type": "markdown",
   "metadata": {
    "slideshow": {
     "slide_type": "fragment"
    }
   },
   "source": [
    "* Vi begynner med diskretisering av inngangs-signal (A/D omforming)"
   ]
  },
  {
   "cell_type": "markdown",
   "metadata": {
    "slideshow": {
     "slide_type": "slide"
    }
   },
   "source": [
    "# Tema:\n",
    "\n",
    "* Intro til \"Hybridsystem\"\n",
    "* <font color=\"d62728\">Uniform Sampling (A/D omforming)</font>\n",
    "* Rekonstruksjon (D/A omforming)\n",
    "* Aliasing\n",
    "* Kvantisering"
   ]
  },
  {
   "cell_type": "markdown",
   "metadata": {
    "slideshow": {
     "slide_type": "slide"
    }
   },
   "source": [
    "# Sampling (A/D omforming)\n",
    "\n",
    "* Signalet representeres som en serie med måleverdier.\n",
    "* Oppnås ved å ta gjentatte punktprøver.\n",
    "    * På f.eks. en Arduino utføres dette med gjentatte kall til funksjonen `analogRead()`.\n",
    "* Denne prosessen er kjent som sampling.\n",
    "\n",
    "<div style=\"width: 90%;\">\n",
    "    <img src=\"Figurer/Fig5_DigitalSig.png\" style=\"float: left; width: 45%\" />\n",
    "    <div style=\"float: right; width: 45%\">\n",
    "    <br>\n",
    "        <b>Notasjon</b>:\n",
    "        $$u[k],  \\ u(k) \\text{ eller } u_k$$\n",
    "    <ul>\n",
    "        <li><i>Temperatursignalet i figuren er en \"tidsdiskret\" funksjon av samplenummer \n",
    "            </i> $k \\in \\mathbb{Z}$.</li>\n",
    "        <li>Bokstavene $l$, $m$ og $n$ er ofte også designert som heltallsvariabler i konteksten av diskréte tallrekker</li>\n",
    "    </ul>  \n",
    "    </div>\n",
    "</div> "
   ]
  },
  {
   "cell_type": "markdown",
   "metadata": {
    "slideshow": {
     "slide_type": "slide"
    }
   },
   "source": [
    "# Sampletid $T_s$\n",
    "\n",
    "* Samplene ***må*** tas med **jevne tidsintervall**.\n",
    "    * Forutsetningen for vellykket diskretisering.\n",
    "* Sampletiden $T_s$ lik tidsintervallet fra én måling til neste.\n",
    "<br><br>\n",
    "<img src=\"Figurer/Fig9_Ts.png\" style=\"width: 80%; margin-left: 100px\" />"
   ]
  },
  {
   "cell_type": "markdown",
   "metadata": {
    "slideshow": {
     "slide_type": "slide"
    }
   },
   "source": [
    "# Samplingsfrekvens $f_s$\n",
    "\n",
    "* ***Antallet*** sampler som tas i løpet av ett sekund.\n",
    "* Sampletid og sampleperiode:\n",
    "$$f_s = \\frac{1}{T_s}$$\n",
    "* Sammenheng mellom måletidspunkt $t_k$ og samplenummer $k$:\n",
    "$$t = k\\cdot T_s = \\frac{k}{f_s}$$\n",
    "$$k = \\frac{t}{T_s} = t\\cdot f_s$$"
   ]
  },
  {
   "cell_type": "markdown",
   "metadata": {
    "slideshow": {
     "slide_type": "slide"
    }
   },
   "source": [
    "# Matematisk modell A/D omformer \n",
    "\n",
    "* Sammenheng mellom analogt og tigitalt signal ved idéell sampling:\n",
    "\n",
    "$$\\Large u[k] = u(t) \\bigg|_{t=k\\cdot T_s}$$\n",
    "\n",
    "\n",
    "\n",
    "<img src=\"Figurer/intro/sampling_1.png\" style=\"width: 60%; margin-left: 20%\" />"
   ]
  },
  {
   "cell_type": "markdown",
   "metadata": {
    "slideshow": {
     "slide_type": "slide"
    }
   },
   "source": [
    "# Normalisert frekvens $\\hat{f}$\n",
    "\n",
    "* Frekvensanalyse av diskrete signal/system bruker av og til *normalisert frekvens*\n",
    "    - Tillater analyse av tidsdiskrete system $G(z)$ uavhengig av samplingsfrekvens $f_s$.\n",
    "    \n",
    "\n",
    "$$\\Large \\hat{f} = \\frac{f}{f_s}$$"
   ]
  },
  {
   "cell_type": "markdown",
   "metadata": {
    "slideshow": {
     "slide_type": "slide"
    }
   },
   "source": [
    "# Regneeksempel:\n",
    "\n",
    "1. Et signal $u(t) = \\cos \\left( 12\\pi \\cdot t\\right) $ samples med $f_s = 20$ målinger i sekundet. Hva blir funksjonsuttrykket til det samplede signalet $u[k]$?\n",
    "2. Hva er den normaliesrte frekvensen til $u[k]$?"
   ]
  },
  {
   "cell_type": "markdown",
   "metadata": {
    "slideshow": {
     "slide_type": "slide"
    }
   },
   "source": [
    "## Regneeksempel illustrert"
   ]
  },
  {
   "cell_type": "code",
   "execution_count": 22,
   "metadata": {},
   "outputs": [
    {
     "data": {
      "text/plain": [
       "<matplotlib.legend.Legend at 0x15af2733230>"
      ]
     },
     "execution_count": 22,
     "metadata": {},
     "output_type": "execute_result"
    },
    {
     "data": {
      "application/vnd.jupyter.widget-view+json": {
       "model_id": "df37609000624263a786b8f302189562",
       "version_major": 2,
       "version_minor": 0
      },
      "image/png": "[encoded data removed]",
      "text/html": [
       "\n",
       "            <div style=\"display: inline-block;\">\n",
       "                <div class=\"jupyter-widgets widget-label\" style=\"text-align: center;\">\n",
       "                    Figure\n",
       "                </div>\n",
       "                <img src='data:image/png;base64,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' width=800.0/>\n",
       "            </div>\n",
       "        "
      ],
      "text/plain": [
       "Canvas(toolbar=Toolbar(toolitems=[('Home', 'Reset original view', 'home', 'home'), ('Back', 'Back to previous …"
      ]
     },
     "metadata": {},
     "output_type": "display_data"
    }
   ],
   "source": [
    "Fs = 20 # Samples per second\n",
    "f = 6 # Hz\n",
    "\n",
    "t = np.linspace(0, 1, 201)  # high resolution time array\n",
    "k = np.arange(Fs+1)  # sample indices\n",
    "\n",
    "u_t = cos(2*pi*f*t)\n",
    "u_k = cos(2*pi*f/Fs*k)\n",
    "\n",
    "plt.close(1); plt.figure(1);\n",
    "plt.plot(t, u_t, \"C1\", label=\"$u(t)$\")\n",
    "plt.xlabel(\"Tid $t$ (sekund)\")\n",
    "plt.twiny(); plt.grid(False)\n",
    "plt.stem(k, u_k, label=\"$u[k]$\", basefmt=\"grey\")\n",
    "plt.xlabel(\"Samplenummer $k$\")\n",
    "plt.legend(loc=\"upper right\")"
   ]
  },
  {
   "cell_type": "markdown",
   "metadata": {
    "slideshow": {
     "slide_type": "fragment"
    }
   },
   "source": [
    "# Tema:\n",
    "\n",
    "* Intro til \"Hybridsystem\"\n",
    "* Uniform Sampling (A/D omforming)\n",
    "* <font color=\"d62728\">Rekonstruksjon (D/A omforming)</font>\n",
    "* Aliasing\n",
    "* Kvantisering"
   ]
  },
  {
   "cell_type": "markdown",
   "metadata": {
    "slideshow": {
     "slide_type": "slide"
    }
   },
   "source": [
    "# Rekonstruksjon av én sample\n",
    "\n",
    "\n",
    "* Mange metoder for D/A omforming\n",
    "    - Alle omhandler å erstatte en sample med en pulsform\n",
    "    \n",
    "    \n",
    "* **Zero Order Hold** (ZOH) mest vanlig i digital reguleringsteknikk\n",
    "    - Hver sample erstattes med en rektangulær puls med bredde $T_s$.\n",
    "    \n",
    "    \n",
    "<img src=\"Figurer/intro/zoh_1.png\" style=\"width: 80%; margin-left: 10%\" />"
   ]
  },
  {
   "attachments": {},
   "cell_type": "markdown",
   "metadata": {
    "slideshow": {
     "slide_type": "slide"
    }
   },
   "source": [
    "# Rekonstruksjon av signal\n",
    "\n",
    "* \"Zero order hold\" resulterer i et trappeformet utgangssignal $\\bar{u}(t)$.\n",
    "    - Betyr i praksis \"sett utgangsspenningen lik nåværende sampleverdi $u[k]$, og la stå til det kommer nye instruksjoner\".\n",
    "    \n",
    "<img src=\"Figurer/intro/zoh_2.png\" style=\"width: 70%; margin-left: 10%\" />"
   ]
  },
  {
   "cell_type": "markdown",
   "metadata": {},
   "source": [
    "# Effekten av ZOH\n",
    "\n",
    "* $\\bar{u}(t)$ henger \"i gjennomsnitt\" $\\frac{T_s}{2}$ sekund etter $y(t)$<br><img src=\"Figurer/intro/zoh_3.png\" style=\"width: 70%; margin-left: 10%\" /><br>\n",
    "    * *Kantene \"jevnes ut\" av fysisk prossess (lavpass-egenskaper)*"
   ]
  },
  {
   "cell_type": "markdown",
   "metadata": {
    "slideshow": {
     "slide_type": "slide"
    }
   },
   "source": [
    "# Seg 2: Regn ut regulatorens utgangsverdi i det tidsdiskrete domenet\n",
    "\n",
    "* For hver ny måling ($e[n]$) som fulløres av A/D omformeren, så må en ny utgangsverdi ($u[n]$) beregnes.\n",
    "\n",
    "<img src=\"Figurer/Fig3_GcZ.png\" style=\"width: 60%; margin-left: 20%\" />"
   ]
  },
  {
   "cell_type": "markdown",
   "metadata": {
    "slideshow": {
     "slide_type": "fragment"
    }
   },
   "source": [
    "* Bokstaven `z` i transferfunksjonen $G_c(z)$ antyder at dette er den digitale regulatorens *z-transform*. \n",
    "    * z-transformasjon er som laplace, bare for digitale LTI-system."
   ]
  },
  {
   "cell_type": "markdown",
   "metadata": {
    "slideshow": {
     "slide_type": "slide"
    }
   },
   "source": [
    "# Steg 3: Tilbake til tidskontinuerlige signal\n",
    "\n",
    "* Alle metoder for rekonstruksjon bygger på å erstatte én signalsample med en \"pulsform\"\n",
    "* \"Zero Order Hold\" er en vanlig og ukomplisert tilnærming.\n",
    "    * Betyr i praksis \"sett utgangsspenningen lik nåværende sampleverdi $x[n]$, og la stå til det kommer en ny sampleverdi\".\n",
    "* Uganssignalet blir en trappetrinns-approksimasjon\n",
    "<img src=\"Figurer/Fig20_ZOH.png\" width=\"75%\">"
   ]
  },
  {
   "cell_type": "markdown",
   "metadata": {
    "slideshow": {
     "slide_type": "slide"
    }
   },
   "source": [
    "# Er ZOH utgangssignal greit?\n",
    "\n",
    "* I de fleste tilfeller vil det fysiske prosessen fint glatte ut trappetrinnskurven.\n",
    "    * Prosessen fungerer som et lavpassfilter\n",
    "    \n",
    "<img src=\"Figurer/Fig4_ZOH.png\" width=\"75%\">"
   ]
  },
  {
   "cell_type": "markdown",
   "metadata": {
    "slideshow": {
     "slide_type": "slide"
    }
   },
   "source": [
    "# Modell av hybridsystem\n",
    "\n",
    "* Vi setter sammen A/D omforming, D/A omforming og digital regulator for å erstatte $G_c(s)$.\n",
    "\n",
    "<img src=\"Figurer/Fig5_HybridModel.png\" style=\"width: 80%; margin-left: 5%\" />"
   ]
  },
  {
   "cell_type": "markdown",
   "metadata": {
    "slideshow": {
     "slide_type": "fragment"
    }
   },
   "source": [
    "* La oss for enkelhets skyld anta at prosessen $G_p(s)$ er en RLC-krets, og alle de tidskontinuerlige signalene $r(t)$, $y(t)$ og $\\bar{u}(t)$ er elektriske spennings-signal."
   ]
  },
  {
   "cell_type": "markdown",
   "metadata": {
    "slideshow": {
     "slide_type": "slide"
    }
   },
   "source": [
    "## Eksempel på realisering med Arduino\n",
    "<img src=\"Figurer/Fig6_ArduinoImplementation.png\" style=\"width: 100%\" />"
   ]
  },
  {
   "cell_type": "markdown",
   "metadata": {
    "slideshow": {
     "slide_type": "slide"
    }
   },
   "source": [
    "# Case: *Digital PID-regulator*\n",
    "\n",
    "<img src=\"Figurer/Fig8_PID.png\" style=\"width: 80%; margin-left: 10%\" />"
   ]
  },
  {
   "cell_type": "markdown",
   "metadata": {
    "slideshow": {
     "slide_type": "slide"
    }
   },
   "source": [
    "## Eksempel: Oppkobling på Arduino\n",
    "\n",
    "<img src=\"Figurer/Fig8_ArduinoPID.png\" style=\"width: 80%; margin-left: 5%\" />\n",
    "\n",
    "* Bruker sensorverdi som input til derivasjonsledd."
   ]
  },
  {
   "cell_type": "markdown",
   "metadata": {
    "slideshow": {
     "slide_type": "slide"
    }
   },
   "source": [
    "# Integratorleddet\n",
    "* Kan utregnes med enkel numerisk integrasjon.\n",
    "* Løpende integral er sum av areal til rektanglene som strekker seg bakover i tid fra alle sampeltidspunkt.\n",
    "\n",
    "<img src=\"Figurer/Fig13_Backdiff.png\" style=\"width: 50%; margin-left: 15%\" >"
   ]
  },
  {
   "cell_type": "markdown",
   "metadata": {
    "slideshow": {
     "slide_type": "fragment"
    }
   },
   "source": [
    "* Hvordan vil denne koden se ut?"
   ]
  },
  {
   "cell_type": "markdown",
   "metadata": {
    "slideshow": {
     "slide_type": "slide"
    }
   },
   "source": [
    "# Differanseligningen\n",
    "\n",
    "* Systemet vi nettopp implementerte med Arduino C beskrives i teorien med en *differanseligning*:$\\\\ $\n",
    "$$y[n] = y[n-1] + T_s\\cdot x[n]$$\n",
    "    * $x[n]$ er inngangsverdi ved tidspunkt $t = n\\cdot T_s$\n",
    "    * $y[n]$ er utgangsverdi (beregnet løpende integral av $x(t)$) ved tidspunkt $t = n\\cdot T_s$"
   ]
  },
  {
   "cell_type": "markdown",
   "metadata": {
    "slideshow": {
     "slide_type": "fragment"
    }
   },
   "source": [
    "### Standardform:\n",
    "\n",
    "$$y[n] - y[n-1] = T_s\\cdot x[n]$$\n",
    "\n",
    "* Inngangs-signal $x[n]$ og utgangs-signal $y[n]$ plassert på hver sin side av likhetstegnet."
   ]
  },
  {
   "cell_type": "markdown",
   "metadata": {
    "slideshow": {
     "slide_type": "fragment"
    }
   },
   "source": [
    "* Digitale filtre beskrives typisk med bruk av en differanseligning.\n",
    "    * En integrator er én type digitalt filter."
   ]
  },
  {
   "cell_type": "markdown",
   "metadata": {
    "slideshow": {
     "slide_type": "slide"
    }
   },
   "source": [
    "# Frekvensanalyse av digitale filtre (i python/matlab)\n",
    "\n",
    "* Alltid lurt å verifisere at diskretiseringen har ønskede frekvensegenskaper.\n",
    "* Programmeringsverktøy kan brukes til å sammenligne frekvensegenskapene til både det kontinuerlige og det diskréte systemet.\n",
    "\n",
    "<img src=\"Figurer/Fig9_Bode.png\" style=\"width: 70%; margin-left: 15%\" >"
   ]
  },
  {
   "cell_type": "markdown",
   "metadata": {
    "slideshow": {
     "slide_type": "slide"
    }
   },
   "source": [
    "## Steg 1: Finn filterkoeffisienter\n",
    "\n",
    "* Generell form for differanseligninger:\n",
    "\\begin{align}\n",
    "a_0 \\cdot y[n] + a_1 \\cdot y[n-1] + \\ldots + a_N \\cdot y[n-N] &= b_0 \\cdot x[n] + b_1 \\cdot x[n-1] + \\ldots + b_M \\cdot x[n-M]\\\\\n",
    "\\sum_{k=0}^{N} a_k \\cdot y[n-k] &= \\sum_{k=0}^{M} b_k \\cdot x[n-k]\n",
    "\\end{align}\n",
    "    * Tallrekkene $a_k$ og $b_k$ er *filterkoeffisienter*\n",
    "    "
   ]
  },
  {
   "cell_type": "markdown",
   "metadata": {
    "slideshow": {
     "slide_type": "fragment"
    }
   },
   "source": [
    "### Filterkoeffisienter for integrator:\n",
    "\\begin{align}\n",
    "y[n] - y[n-1] &= T_s\\cdot x[n]\\\\\n",
    "\\mathbf{1} \\cdot y[n]\\  \\mathbf{- 1} \\cdot y[n-1] &= \\mathbf{T_s} \\cdot x[n] \n",
    "\\end{align}\n",
    "\n",
    "$$ a_k = \\{1, -1\\},\\ \\  b_k = \\{T_s\\}$$"
   ]
  },
  {
   "cell_type": "markdown",
   "metadata": {
    "slideshow": {
     "slide_type": "slide"
    }
   },
   "source": [
    "## Steg 2: Beregn frekvensrespons og lag plot\n",
    "\n",
    "* Her har både Matlab og Python en funksjon som heter `freqz()`"
   ]
  },
  {
   "cell_type": "code",
   "execution_count": null,
   "metadata": {},
   "outputs": [],
   "source": [
    "import numpy as np\n",
    "import matplotlib.pyplot as plt\n",
    "import scipy.signal as sig\n",
    "\n",
    "T_s = 0.01 # 100 sampler per sekund\n",
    "a_k = [1, -1] \n",
    "b_k = [T_s]\n",
    "\n",
    "f, Hz = sig.freqz(b_k, a_k, fs=1/T_s) # Finn frekvensrespons\n",
    "w = f*2*np.pi # Konverter fra Hz til rad/s\n",
    "\n",
    "# Vis Hz og Hs i to subplot for å sammenligne gain og fase\n",
    "plt.subplot();plt.grid(True); plt.ylabel('Gain'); plt.xlabel('Frequency (rad/s)')\n",
    "plt.plot(w, np.abs(Hz), label=r'$\\left|H(z)\\right|$')\n",
    "plt.legend()"
   ]
  },
  {
   "cell_type": "markdown",
   "metadata": {
    "slideshow": {
     "slide_type": "slide"
    }
   },
   "source": [
    "## Steg 3: Sammenlign frekvensrespons for det tidskontinuerlige systemet"
   ]
  },
  {
   "cell_type": "code",
   "execution_count": null,
   "metadata": {},
   "outputs": [],
   "source": [
    "import numpy as np\n",
    "import matplotlib.pyplot as plt\n",
    "import scipy.signal as sig\n",
    "\n",
    "T_s = 0.01 # 100 sampler per sekund\n",
    "a_k = [1, -1] \n",
    "b_k = [T_s]\n",
    "\n",
    "f, Hz = sig.freqz(b_k, a_k, fs=1/T_s) # Finn frekvensrespons\n",
    "w = f*2*np.pi # Konverter fra Hz til rad/s\n",
    "Hs = 1/(1j*w) # Regn ut frekvensresponsen til 1/s\n",
    "\n",
    "# Vis Hz og Hs i to subplot for å sammenligne gain og fase\n",
    "plt.subplot(2,1,1); plt.grid(True); plt.ylabel('Gain'); \n",
    "plt.plot(w, np.abs(Hz), label=r'$\\left|H(z)\\right|$')\n",
    "plt.plot(w, np.abs(Hs), '-.', label=r'$\\left|H(s)\\right|$')\n",
    "plt.legend()\n",
    "plt.subplot(2,1,2); plt.grid(True); plt.ylabel('Phase (degrees)'); plt.xlabel('Frequency (rad/s)')\n",
    "plt.plot(w, np.angle(Hz)/np.pi*180, label=r'$\\angle H(z)$')\n",
    "plt.plot(w, np.angle(Hs)/np.pi*180, '-.', label=r'$\\angle H(s)$')\n",
    "plt.legend()"
   ]
  },
  {
   "cell_type": "markdown",
   "metadata": {
    "slideshow": {
     "slide_type": "slide"
    }
   },
   "source": [
    "# Derivatorleddet\n",
    "\n",
    "* Hvordan oppnå en diskrét realisering av $\\frac{d x(t)}{dt}$?"
   ]
  },
  {
   "cell_type": "markdown",
   "metadata": {
    "slideshow": {
     "slide_type": "fragment"
    }
   },
   "source": [
    "* Enkleste løsning: finne differansen mellom to nåværende og forrige målte verdi.\n",
    "    * Differanseligning: $y[n] = \\frac{1}{T_s}\\cdot x[n] - \\frac{1}{T_s}\\cdot x[n-1]$\n",
    "    * Filterkoeffisienter: $a_k = \\{1\\}, \\ \\ b_k = \\left\\{ \\frac{1}{T_s}, - \\frac{1}{T_s}\\right\\}$"
   ]
  },
  {
   "cell_type": "markdown",
   "metadata": {
    "slideshow": {
     "slide_type": "fragment"
    }
   },
   "source": [
    "* Potensiell Arduino-implementasjon:\n",
    "<pre><font color=\"#00979c\">float</font> <font color=\"#000000\">Differentiator</font><font color=\"#434f54\">:</font><font color=\"#434f54\">:</font><font color=\"#d35400\">update</font><font color=\"#000000\">(</font><font color=\"#00979c\">float</font> <font color=\"#000000\">x</font><font color=\"#000000\">)</font>\n",
    "<font color=\"#000000\">{</font>\n",
    " &nbsp;<font color=\"#000000\">y</font> <font color=\"#434f54\">=</font> <font color=\"#000000\">(</font><font color=\"#000000\">x</font> <font color=\"#434f54\">-</font> <font color=\"#000000\">previous_x</font><font color=\"#000000\">)</font><font color=\"#434f54\">&#47;</font><font color=\"#000000\">Ts</font><font color=\"#000000\">;</font>\n",
    " &nbsp;<font color=\"#000000\">previous_x</font> <font color=\"#434f54\">=</font> <font color=\"#000000\">x</font><font color=\"#000000\">;</font>\n",
    " &nbsp;<font color=\"#5e6d03\">return</font> <font color=\"#000000\">y</font><font color=\"#000000\">;</font>\n",
    "<font color=\"#000000\">}</font></pre>"
   ]
  },
  {
   "cell_type": "markdown",
   "metadata": {
    "slideshow": {
     "slide_type": "slide"
    }
   },
   "source": [
    "## Frekvensanalyse av $y[n] = \\frac{1}{T_s}\\cdot x[n] - \\frac{1}{T_s}\\cdot x[n-1]$"
   ]
  },
  {
   "cell_type": "code",
   "execution_count": null,
   "metadata": {},
   "outputs": [],
   "source": [
    "import numpy as np\n",
    "import matplotlib.pyplot as plt\n",
    "import scipy.signal as sig\n",
    "\n",
    "T_s = 0.01 # 100 sampler per sekund\n",
    "a_k = [1] \n",
    "b_k = [1/T_s, -1/T_s]\n",
    "\n",
    "f, Hz = sig.freqz(b_k, a_k, fs=1/T_s) # Finn frekvensrespons\n",
    "w = f*2*np.pi # Konverter fra Hz til rad/s\n",
    "Hs = 1j*w # Regn ut frekvensresponsen til s\n",
    "\n",
    "# Vis Hz og Hs i to subplot for å sammenligne gain og fase\n",
    "plt.subplot(2,1,1); plt.grid(True); plt.ylabel('Gain'); \n",
    "plt.plot(w, np.abs(Hz), label=r'$\\left|H(z)\\right|$')\n",
    "plt.plot(w, np.abs(Hs), '-.', label=r'$\\left|H(s)\\right|$')\n",
    "plt.legend()\n",
    "plt.subplot(2,1,2); plt.grid(True); plt.ylabel('Phase (degrees)'); plt.xlabel('Frequency (rad/s)')\n",
    "plt.plot(w, np.angle(Hz)/np.pi*180, label=r'$\\angle H(z)$')\n",
    "plt.plot(w, np.angle(Hs)/np.pi*180, '-.', label=r'$\\angle H(s)$')\n",
    "plt.legend()"
   ]
  },
  {
   "cell_type": "markdown",
   "metadata": {
    "slideshow": {
     "slide_type": "slide"
    }
   },
   "source": [
    "# Målestøy i sensor\n",
    "* Alle samplene vil typisk ha litt avvik av forskjellige årsaker.\n",
    "* Avviket er ofte tilfeldig, og dermed også delvis høyfrekvent.\n",
    "* Enkel differanseutregning vil forsterke den høyfrekvente delen av målestøyet velidig mye."
   ]
  },
  {
   "cell_type": "markdown",
   "metadata": {
    "slideshow": {
     "slide_type": "fragment"
    }
   },
   "source": [
    "* Er det egentlig ønskelig med et derivasjonsledd som opererer i maksimalt frekvensområde?"
   ]
  },
  {
   "cell_type": "markdown",
   "metadata": {
    "slideshow": {
     "slide_type": "slide"
    }
   },
   "source": [
    "# Derivator med lavpassfilter\n",
    "\n",
    "* Gitt at prosessen har lavpass-egenskaper, er det lite interesse for å derivere i høye frekvenser.\n",
    "* Det er vanlig å sette en øvre grensefrekvens $\\omega_c$ for derivatoren.\n",
    "    * Lavpassfilter i serie med derivator $s$:\n",
    "$$H(s) = s \\cdot \\frac{\\omega_c}{s+\\omega_c}$$"
   ]
  },
  {
   "cell_type": "markdown",
   "metadata": {
    "slideshow": {
     "slide_type": "fragment"
    }
   },
   "source": [
    "* Differensialligning:\n",
    "$$ \\frac{d y(t)}{dt} + \\omega_c \\cdot y(t) = \\omega_c \\cdot \\frac{d x(t)}{dt} $$"
   ]
  },
  {
   "cell_type": "markdown",
   "metadata": {
    "slideshow": {
     "slide_type": "fragment"
    }
   },
   "source": [
    "* Hvordan kan dette diskretiseres?"
   ]
  },
  {
   "cell_type": "markdown",
   "metadata": {
    "slideshow": {
     "slide_type": "fragment"
    }
   },
   "source": [
    "* Enkleste strategi: erstatte $\\frac{d y(t)}{dt}$ med $\\frac{y[n]-y[n-1]}{T_s}$, og  $\\frac{d x(t)}{dt}$ med $\\frac{x[n]-x[n-1]}{T_s}$"
   ]
  },
  {
   "cell_type": "markdown",
   "metadata": {
    "slideshow": {
     "slide_type": "slide"
    }
   },
   "source": [
    "# Diskret derivator med lavpassfilter\n",
    "\n",
    "* Differanseligning:\n",
    "\n",
    "$$ y[n] - \\frac{1}{\\omega_c \\cdot T_s + 1} \\cdot y[n-1] = \\frac{\\omega_c}{\\omega_c \\cdot T_s + 1} \\cdot x[n] - \\frac{\\omega_c}{\\omega_c \\cdot T_s + 1} x[n-1]$$\n",
    "\n",
    "* Filterkoeffisienter:\n",
    "\n"
   ]
  },
  {
   "cell_type": "markdown",
   "metadata": {
    "slideshow": {
     "slide_type": "slide"
    }
   },
   "source": [
    "# Frekvensanalyse"
   ]
  },
  {
   "cell_type": "code",
   "execution_count": null,
   "metadata": {},
   "outputs": [],
   "source": [
    "T_s = 0.001\n",
    "w_c = 0.1/Ts*2*np.pi\n",
    "\n",
    "a_k = np.array([1, -1/(w_c*T_s + 1)])\n",
    "b_k = np.array([1, -1])*w_c/(w_c*T_s + 1)\n",
    "\n",
    "f, Hz = sig.freqz(b_k, a_k, fs=1/T_s) # Finn frekvensrespons\n",
    "w = f*2*np.pi # Konverter fra Hz til rad/s\n",
    "Hs = 1j*w # Regn ut frekvensresponsen til s\n",
    "\n",
    "print(\"b:\",b_k, \"\\na:\", a_k)\n",
    "\n",
    "# Vis Hz og Hs i to subplot for å sammenligne gain og fase\n",
    "plt.subplot(2,1,1); plt.grid(True); plt.ylabel('Gain'); \n",
    "plt.plot(w, np.abs(Hz), label=r'$\\left|H(z)\\right|$')\n",
    "plt.plot(w, np.abs(Hs), '-.', label=r'$\\left|H(s)\\right|$')\n",
    "plt.legend()\n",
    "plt.subplot(2,1,2); plt.grid(True); plt.ylabel('Phase (degrees)'); plt.xlabel('Frequency (rad/s)')\n",
    "plt.plot(w, np.angle(Hz)/np.pi*180, label=r'$\\angle H(z)$')\n",
    "plt.plot(w, np.angle(Hs)/np.pi*180, '-.', label=r'$\\angle H(s)$')\n",
    "plt.legend()"
   ]
  },
  {
   "cell_type": "markdown",
   "metadata": {
    "slideshow": {
     "slide_type": "slide"
    }
   },
   "source": [
    "# Forsinkelser i det digitale systemet\n",
    "\n",
    "* Glatting av trappetrinnskurven (lavpassfiltrering) viser tydelig at ZOH-signalet vil henge etter med $\\frac{T_s}{2}$ sekund.\n",
    "    \n",
    "<img src=\"Figurer/Fig22_ZOH2.png\" width=\"65%\">"
   ]
  },
  {
   "cell_type": "markdown",
   "metadata": {
    "slideshow": {
     "slide_type": "fragment"
    }
   },
   "source": [
    "* Prosesseringstid må også tas med i bildet. Denne kann være inntil én sampleperiode $T_s$.\n",
    "    * NB! Vær sikker på at prosesseringstiden ikke er *mer* enn $T_s$. Da vil reell sampletid fort bli en helt annen."
   ]
  },
  {
   "cell_type": "markdown",
   "metadata": {
    "slideshow": {
     "slide_type": "fragment"
    }
   },
   "source": [
    "* Maksimal \"lovlig\" forsinkelse: $d = \\frac{3\\cdot T_s}{2}$"
   ]
  },
  {
   "cell_type": "markdown",
   "metadata": {
    "slideshow": {
     "slide_type": "slide"
    }
   },
   "source": [
    "# Tidsorsinkelse og stabilitet\n",
    "\n",
    "* Gitt $d = \\frac{3\\cdot T_s}{2}$, korrigert transferfunksjon for regulatoren blir da:\n",
    "$$\\hat{G}(s) = G(s)\\cdot e^{-\\frac{3 \\cdot T_s}{2}\\cdot s}$$\n",
    "    * Korrigert faserespons $\\angle \\hat{G}(\\omega)$:\n",
    "$$\\angle \\hat{G}(\\omega) = \\angle G(\\omega) - \\frac{3 \\cdot T_s}{2} \\cdot \\omega$$"
   ]
  },
  {
   "cell_type": "markdown",
   "metadata": {
    "slideshow": {
     "slide_type": "fragment"
    }
   },
   "source": [
    "* Figuren viser hvordan en forsinkelse på $\\frac{T_s}{2}$ ved ulike samplingsfrekvenser for et reguleringssystem kan påvirke fase-kurven.\n",
    "<img src=\"Figurer/Fig23_DiscreteControl.png\" width=\"75%\">"
   ]
  },
  {
   "cell_type": "markdown",
   "metadata": {
    "slideshow": {
     "slide_type": "slide"
    }
   },
   "source": [
    "# Nyquist-frekvensen\n",
    "\n",
    "* Diskrete systemer vil ikke kunne håndtere frekvensegenser over til et visst punkt. Denne grensen er Nyquist-frekvensen.\n",
    "\n",
    "## $$\\text{Nyquist-frekvens} = \\frac{f_s}{2} = \\frac{1}{2\\cdot T_s}$$\n",
    "\n",
    "* Sinusbølger med frekvenser utover nyquist-frekvensen vil \"se ut\" som noe annet basert på samplene.\n",
    "    * Dette er kjent som *aliasing*"
   ]
  },
  {
   "cell_type": "markdown",
   "metadata": {
    "slideshow": {
     "slide_type": "slide"
    }
   },
   "source": [
    "# Oppsummering\n",
    "\n"
   ]
  }
 ],
 "metadata": {
  "celltoolbar": "Slideshow",
  "hide_input": false,
  "kernelspec": {
   "display_name": "Python 3 (ipykernel)",
   "language": "python",
   "name": "python3"
  },
  "language_info": {
   "codemirror_mode": {
    "name": "ipython",
    "version": 3
   },
   "file_extension": ".py",
   "mimetype": "text/x-python",
   "name": "python",
   "nbconvert_exporter": "python",
   "pygments_lexer": "ipython3",
   "version": "3.12.2"
  },
  "toc": {
   "base_numbering": 1,
   "nav_menu": {},
   "number_sections": false,
   "sideBar": true,
   "skip_h1_title": false,
   "title_cell": "Innholdstabell",
   "title_sidebar": "Innhold",
   "toc_cell": false,
   "toc_position": {},
   "toc_section_display": true,
   "toc_window_display": false
  },
  "varInspector": {
   "cols": {
    "lenName": 16,
    "lenType": 16,
    "lenVar": 40
   },
   "kernels_config": {
    "python": {
     "delete_cmd_postfix": "",
     "delete_cmd_prefix": "del ",
     "library": "var_list.py",
     "varRefreshCmd": "print(var_dic_list())"
    },
    "r": {
     "delete_cmd_postfix": ") ",
     "delete_cmd_prefix": "rm(",
     "library": "var_list.r",
     "varRefreshCmd": "cat(var_dic_list()) "
    }
   },
   "position": {
    "height": "541.844px",
    "left": "1870px",
    "right": "20px",
    "top": "120px",
    "width": "243.312px"
   },
   "types_to_exclude": [
    "module",
    "function",
    "builtin_function_or_method",
    "instance",
    "_Feature"
   ],
   "window_display": false
  }
 },
 "nbformat": 4,
 "nbformat_minor": 4
}
