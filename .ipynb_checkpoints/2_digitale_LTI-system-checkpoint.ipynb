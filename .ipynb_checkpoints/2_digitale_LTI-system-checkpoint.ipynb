{
 "cells": [
  {
   "cell_type": "code",
   "execution_count": 1,
   "id": "c92c5b1a-5b60-43f8-b319-b6adebdddbc1",
   "metadata": {
    "slideshow": {
     "slide_type": "skip"
    }
   },
   "outputs": [],
   "source": [
    "# Generelle moduler og funksjonsbeskrivelser brukt i forelesningen\n",
    "from numpy import sin, cos, pi, exp, angle, abs, unwrap, log10\n",
    "import numpy as np\n",
    "import scipy.signal as sig\n",
    "import matplotlib.pyplot as plt\n",
    "\n",
    "plt.rcParams[\"figure.figsize\"] = [8.00, 4.5]\n",
    "plt.rcParams[\"figure.autolayout\"] = True\n",
    "plt.rcParams[\"axes.grid\"] = True\n",
    "plt.rcParams[\"axes.xmargin\"] = 0.0\n",
    "\n",
    "%matplotlib inline"
   ]
  },
  {
   "cell_type": "markdown",
   "id": "baa7d778-0a3c-4343-9f46-a7ad7606d60e",
   "metadata": {
    "slideshow": {
     "slide_type": "slide"
    }
   },
   "source": [
    "<img src=\"Figurer/NTNU_Logo.png\" align=\"left\" width=\"30%\">\n",
    "<br clear=\"all\" />\n",
    "<br></br>\n",
    "\n",
    "# Diskretisering time 2 -  *differanseligningen*\n",
    "\n",
    "* **Emne: AIS2102 - Dynamiske system**\n",
    "* ***dato***: 3. februar 2025\n",
    "* **Foreleser: Kai Erik Hoff**"
   ]
  },
  {
   "cell_type": "markdown",
   "id": "a4177912-00ba-46c8-8564-066f70d6cd94",
   "metadata": {
    "slideshow": {
     "slide_type": "slide"
    }
   },
   "source": [
    "# Digitale regulatorer\n",
    "<br>\n",
    "<br>\n",
    "<img src=\"Figurer/discrete_LTI/topic_overview.png\" style=\"width: 70%; margin-left: 10%\" />"
   ]
  },
  {
   "cell_type": "markdown",
   "id": "f2afb50e-63ee-4c39-9024-0f3140409abf",
   "metadata": {
    "slideshow": {
     "slide_type": "slide"
    }
   },
   "source": [
    "# Tema\n",
    "\n",
    "* Differanseligning for derivasjon\n",
    "    - Implisitt Euler diskretisering av førsteordens system\n",
    "* Intro til differanseligningen\n",
    "    - Generell form\n",
    "    - Systemkoeffisienter\n",
    "    - Implementasjon\n",
    "    - Analyse med Python/Matlab"
   ]
  },
  {
   "cell_type": "markdown",
   "id": "e9ef1e16-7ef4-4158-b80a-88a56e869e97",
   "metadata": {
    "slideshow": {
     "slide_type": "slide"
    }
   },
   "source": [
    "# Enkelt diskretiseringseksempel\n",
    "* Hvordan kan derivasjon utføres med et tidsdiskret system?\n",
    "<br>\n",
    "<br>\n",
    "<img src=\"Figurer/discrete_LTI/cont_s.png\" style=\"width: 60%; margin-left: 15%\" />"
   ]
  },
  {
   "cell_type": "markdown",
   "id": "3fe56084-312c-49c9-97b5-de732ff93cda",
   "metadata": {
    "slideshow": {
     "slide_type": "slide"
    }
   },
   "source": [
    "# Numerisk derivasjon (bakoverdifferanse)\n",
    "\n",
    "<br>\n",
    "<br>\n",
    "<img src=\"Figurer/discrete_LTI/backdiff.png\" style=\"width: 70%; margin-left: 10%\" />"
   ]
  },
  {
   "cell_type": "markdown",
   "id": "269f0239-cd1b-46a8-9010-c60e7978382c",
   "metadata": {
    "slideshow": {
     "slide_type": "slide"
    }
   },
   "source": [
    "# Implementasjon (Arduino)"
   ]
  },
  {
   "cell_type": "markdown",
   "id": "c43b02a0-8c43-4491-b5a9-7313a97b3142",
   "metadata": {
    "slideshow": {
     "slide_type": "fragment"
    }
   },
   "source": [
    "* Et forslag:\n",
    "\n",
    "---\n",
    "```C++\n",
    "class Differentiator{\n",
    "private:\n",
    "    float previousInput;\n",
    "    const float timeStep;\n",
    "public:\n",
    "    Differentiator(float timeStep) : timeStep(timeStep), previousInput(0) {}\n",
    "    float update(float newInput) {\n",
    "        float output = (newInput - previousInput)/timeStep; // Utregning av derivert\n",
    "        previousInput = newInput; // Oppdatering av tilstandsvariabel\n",
    "        return output;\n",
    "```\n",
    "---"
   ]
  },
  {
   "cell_type": "markdown",
   "id": "92d1ed9d-44fc-46d7-8f71-03618c2a52b5",
   "metadata": {
    "slideshow": {
     "slide_type": "fragment"
    }
   },
   "source": [
    "* NB! `previousInput` fungerer her som en *tilstandvariabel*"
   ]
  },
  {
   "cell_type": "markdown",
   "id": "3e1ee2a9-ccf4-44da-9c9a-dfddec1aa3ee",
   "metadata": {
    "slideshow": {
     "slide_type": "slide"
    }
   },
   "source": [
    "# Diskretisering av differensialligning"
   ]
  },
  {
   "cell_type": "markdown",
   "id": "a4c79660-7b10-468e-bc0d-e9f73d91ce86",
   "metadata": {
    "slideshow": {
     "slide_type": "fragment"
    }
   },
   "source": [
    "## Eksempel:\n",
    "* Bruk tilnærmingen $\\dot{y}[k] \\approx \\frac{y[k] - y[k-1]}{T_s}$ (implisitt Euler) til å disretisere følgende differensialligning med tidssteg $T_s = 0.125 \\text{s}$:\n",
    "\n",
    "$$ \\Large \\dot{y}(t) + 2\\cdot y(t) = 2 \\cdot u(t)$$"
   ]
  },
  {
   "cell_type": "markdown",
   "id": "0328afa6-6f24-4e94-8e4e-3aaf39f1c0cf",
   "metadata": {
    "slideshow": {
     "slide_type": "notes"
    }
   },
   "source": [
    "$$\n",
    "\\begin{align}\n",
    "\\dot{y}(t) + 2\\cdot y(t) &= 2 \\cdot u(t) \\\\\n",
    "&\\Downarrow \\dot{y}(t) \\approx \\frac{y[k] - y[k-1]}{T_s} \\\\\n",
    "\\frac{y[k] - y[k-1]}{T_s} + 2\\cdot y[k] &= 2 \\cdot u[k] \\\\\n",
    "\\left(\\frac{1}{T_s} + 2\\right) y[k] - \\frac{1}{T_s} y[k-1] &= 2\\cdot u[k] \\\\\n",
    "&\\Downarrow T_s = 0.125 \\\\\n",
    "10 \\cdot y[k] - 8 \\cdot y[k-1] &= 2 \\cdot u[k]\n",
    "\\end{align}\n",
    "$$"
   ]
  },
  {
   "cell_type": "markdown",
   "id": "ea720e7b-52a4-4429-8ee3-0e2c717d425c",
   "metadata": {
    "slideshow": {
     "slide_type": "slide"
    }
   },
   "source": [
    "# Differanseligningen\n",
    "\n"
   ]
  },
  {
   "cell_type": "markdown",
   "id": "25900a7d-ce43-4e74-9a9f-a40f4a5bb08b",
   "metadata": {
    "slideshow": {
     "slide_type": "fragment"
    }
   },
   "source": [
    "* Generell form på alle tidsdisrkete LTI-system (bl.a. digitale regulatorer)\n",
    "\n",
    "$$\n",
    "\\begin{align}\n",
    "a_0 \\cdot y[k] + a_1 \\cdot y[k-1] + \\ldots + a_N \\cdot y[k-N] &= b_0 \\cdot u[k] + b_1 \\cdot u[k-1] + \\ldots + b_M \\cdot u[k-M]\\\\\n",
    "\\sum_{i=0}^{N} a_i \\cdot y[k-i] &= \\sum_{i=0}^{M} b_i \\cdot u[k-i]\n",
    "\\end{align}\n",
    "$$\n",
    "\n",
    "- Tallrekkene $a_i$ og $b_i$ er systemets *koeffisienter*\n"
   ]
  },
  {
   "cell_type": "markdown",
   "id": "6b967be5-9921-4c0b-8112-3924c28d4666",
   "metadata": {
    "slideshow": {
     "slide_type": "fragment"
    }
   },
   "source": [
    "* Antar vi at $a_0=1$, kan vi skrive definere følgende algoritme for utregning av $y[k]$:\n",
    "\n",
    "$$y[k] = b_0 \\cdot u[k] + b_1 \\cdot u[k-1] + \\ldots + b_M \\cdot u[k-M] -  a_1 \\cdot y[k-1] - \\ldots - a_N \\cdot y[k-N]$$\n",
    "\n",
    "* Vi sier at systemet er *normalisert* når $a_0 = 1$"
   ]
  },
  {
   "cell_type": "markdown",
   "id": "5f4ba466-05d8-440d-bfba-92ab4bb10017",
   "metadata": {
    "slideshow": {
     "slide_type": "slide"
    }
   },
   "source": [
    "### Sammenligning av stegresponser fra eksempel\n"
   ]
  },
  {
   "cell_type": "code",
   "execution_count": 4,
   "id": "ab700338-cf77-46c0-89e5-ae0027e61f49",
   "metadata": {
    "slideshow": {
     "slide_type": "fragment"
    }
   },
   "outputs": [
    {
     "data": {
      "text/plain": [
       "(0.0, 4.0)"
      ]
     },
     "execution_count": 4,
     "metadata": {},
     "output_type": "execute_result"
    },
    {
     "data": {
      "image/png": "[encoded data removed]",
      "text/plain": [
       "<Figure size 800x450 with 1 Axes>"
      ]
     },
     "metadata": {},
     "output_type": "display_data"
    }
   ],
   "source": [
    "Ts = 0.125\n",
    "sys_cont = sig.TransferFunction([2], [1, 2]) # Kontinuerlige koeffisienter\n",
    "sys_disc = sig.TransferFunction([2, 0],[10, -8], dt=Ts) # Tidsdiskrete koeffisienter\n",
    "t, y = sys_cont.step()\n",
    "t_k, y_k = sys_disc.step()\n",
    "y_k = y_k[0].flatten() # Scipy dstep() returnerer en tuple med kolonnevektor (god knows why)\n",
    "plt.plot(t, y)\n",
    "plt.stairs(y_k[:-1], t_k)\n",
    "plt.xlim(xmax=4)"
   ]
  },
  {
   "cell_type": "markdown",
   "id": "e5606b70-3967-4ff6-b333-8ae0965d3b1a",
   "metadata": {
    "slideshow": {
     "slide_type": "notes"
    }
   },
   "source": [
    "#### I Matlab:\n",
    "\n",
    "\n",
    "```Octave\n",
    "Ts = 0.125\n",
    "\n",
    "sys_disc = tf([2], [10, -8], Ts)\n",
    "sys_cont = tf([2],[1, 2])\n",
    "\n",
    "step(sys_cont)\n",
    "step(sys_disc)\n",
    "\n",
    "```"
   ]
  },
  {
   "cell_type": "markdown",
   "id": "e22102a7-b0b4-41b3-91b3-a584c1b394b9",
   "metadata": {
    "slideshow": {
     "slide_type": "slide"
    }
   },
   "source": [
    "# Systemorden"
   ]
  },
  {
   "cell_type": "markdown",
   "id": "25ee5356-6584-4cf3-8114-4d10eeda4acc",
   "metadata": {
    "slideshow": {
     "slide_type": "fragment"
    }
   },
   "source": [
    "* Antallet tidssteg systemet må huske målinger tilbake i tid"
   ]
  },
  {
   "cell_type": "markdown",
   "id": "2abe147e-b888-4153-8644-eec8d96ddf3b",
   "metadata": {
    "slideshow": {
     "slide_type": "fragment"
    }
   },
   "source": [
    "* For en differanseligning\n",
    "$$\\sum_{k=0}^{N} a_k \\cdot y[n-k] = \\sum_{k=0}^{M} b_k \\cdot x[n-k]$$\n",
    "Systemorden: $\\max(N, M)$"
   ]
  },
  {
   "cell_type": "markdown",
   "id": "e44cd046-d478-46fa-bd89-651c69eb9413",
   "metadata": {
    "slideshow": {
     "slide_type": "fragment"
    }
   },
   "source": [
    "* Ved diskretisering: <br>$N$ orden kontinuerlig system $\\rightarrow$ $N$ orden diskrét system"
   ]
  },
  {
   "cell_type": "markdown",
   "id": "d496dc1e-d4c6-4f1c-8e2a-cc14a86c6c9e",
   "metadata": {
    "slideshow": {
     "slide_type": "slide"
    }
   },
   "source": [
    "# Blokkskjemarepresentasjon\n",
    "\n",
    "<img src=\"Figurer/discrete_LTI/df1.png\" style=\"width: 70%; margin-left: 10%\" />"
   ]
  },
  {
   "cell_type": "markdown",
   "id": "8ac11525-7a8b-4691-8a00-a5167f9772f7",
   "metadata": {
    "slideshow": {
     "slide_type": "fragment"
    }
   },
   "source": [
    "* Hver av blokkene merket $z^{-1}$ representerer én sample forsinkelse, og krever at kodeimplementasjonen inneholder en egen tilstandsvariabel for denne blokken."
   ]
  },
  {
   "cell_type": "markdown",
   "id": "0a6d515f-ceb2-4b3b-bd98-aaa717e13e2a",
   "metadata": {
    "slideshow": {
     "slide_type": "slide"
    }
   },
   "source": [
    "# Mulig implementasjon\n",
    "\n",
    "```C++\n",
    "class LTI_system {\n",
    "private:\n",
    "    float b[];   // Feed-forward system Coefficients\n",
    "    float a[];   // Feedback system coefficients\n",
    "    int order;   // Total system order\n",
    "    float u_i[]; // Previous Inputs u[k-i]\n",
    "    float y_i[]; // Previous Outputs y[k-i]\n",
    "\n",
    "public:\n",
    "    float process_sample(float u) {\n",
    "        float y = b[0] * u;  // Initialize Output y[k]\n",
    "\n",
    "        // Add weighted sum of previous inputs/outputs\n",
    "        for (int i = 1; i <= order; i++) {  \n",
    "            y += b[i] * u_i[i - 1];\n",
    "            y -= a[i] * y_i[i - 1];\n",
    "        }\n",
    "\n",
    "        y /= a[0];  // Divide output by a[0]. May be disregarded if a[0] = 1\n",
    "\n",
    "        // Update state vectors\n",
    "        for (int i = 1; i < order; i++) {\n",
    "            u_i[i] = u_i[i - 1];\n",
    "            y_i[i] = y_i[i - 1];\n",
    "        }\n",
    "\n",
    "        u_i[0] = u;\n",
    "        y_i[0] = y;\n",
    "\n",
    "        return y;\n",
    "    }\n",
    "};\n",
    "\n",
    "```"
   ]
  },
  {
   "cell_type": "markdown",
   "id": "13f2fa2c-03c8-4a59-b963-467d47dee07a",
   "metadata": {
    "slideshow": {
     "slide_type": "fragment"
    }
   },
   "source": [
    "* *NB! Ufullstendig kode.*"
   ]
  },
  {
   "cell_type": "markdown",
   "id": "3ea1fa74-8e03-473b-9610-6bb472b9046c",
   "metadata": {
    "slideshow": {
     "slide_type": "slide"
    }
   },
   "source": [
    "## Regneeksempel\n",
    "* Normaliser det tidsdiskrete systemet $10 \\cdot y[k] - 8 \\cdot y[k-1] = 2 \\cdot u[k]$ fra forrige eksempel, og sett opp *algoritmen* ($y[k] = \\ldots$)\n",
    "* Beregn så $y[k]$ for sampleintervallet $0 \\leq k \\leq 6$ når\n",
    "$$u[k] = \\begin{cases}0, & k<0 \\\\ 1, & k \\geq 0 \\end{cases}$$\n",
    "    - Vi kan anta $y[k] = 0$ for $k<0$"
   ]
  },
  {
   "cell_type": "markdown",
   "id": "4aef7295-827b-422e-9751-b9eb92472523",
   "metadata": {
    "slideshow": {
     "slide_type": "fragment"
    }
   },
   "source": [
    "#### Løsning:\n",
    "|$$k$$|$$u[k]$$|$$y[k]$$|\n",
    "|---|---|---|\n",
    "|$$0$$|$$1$$|$$0.8\\cdot 0 + 0.2\\cdot 1 = 0.2$$|\n",
    "|$$1$$|$$1$$|$$0.8\\cdot 0.2 + 0.2\\cdot 1 = 0.36$$|\n",
    "|$$2$$|$$1$$|$$0.8\\cdot 0.36 + 0.2\\cdot 1 = 0.488$$|\n",
    "|$$3$$|$$1$$|$$0.8\\cdot 0.488 + 0.2\\cdot 1 = 0.5905$$|\n",
    "|$$4$$|$$1$$|$$1-0.8^5$$|\n",
    "|$$5$$|$$1$$|$$1-0.8^6$$|\n",
    "|$$6$$|$$1$$|$$1-0.8^7$$|"
   ]
  },
  {
   "cell_type": "markdown",
   "id": "742c13d9",
   "metadata": {
    "slideshow": {
     "slide_type": "slide"
    }
   },
   "source": [
    "### Kodeillustrasjon av regneeksempel:"
   ]
  },
  {
   "cell_type": "code",
   "execution_count": 37,
   "id": "1553f114-89c7-4514-9236-3ad90b1bad0d",
   "metadata": {
    "slideshow": {
     "slide_type": "fragment"
    }
   },
   "outputs": [
    {
     "data": {
      "text/plain": [
       "(0.0, 2.0)"
      ]
     },
     "execution_count": 37,
     "metadata": {},
     "output_type": "execute_result"
    },
    {
     "data": {
      "image/png": "[encoded data removed]",
      "text/plain": [
       "<Figure size 800x450 with 1 Axes>"
      ]
     },
     "metadata": {},
     "output_type": "display_data"
    }
   ],
   "source": [
    "\n",
    "# \"Manuell\" utregning av stegrespons\n",
    "y = np.zeros(7)\n",
    "u = lambda k: (k>=0)*1\n",
    "for k in range(7):\n",
    "    y[k] = 0.2*u(k) + 0.8*y[k-1]\n",
    "\n",
    "# Utregning med dstep()\n",
    "Ts = 0.125\n",
    "sys_disc = sig.TransferFunction([2, 0],[10, -8], dt=Ts) # NB!\n",
    "t_k, y_k = sys_disc.step()\n",
    "y_k = y_k[0].flatten() # Scipy dstep() returnerer en tuple med kolonnevektor (god knows why)\n",
    "\n",
    "# Plotting\n",
    "plt.stairs(y_k[:-1], t_k, color='C1')\n",
    "plt.stem(t_k[:7], y)\n",
    "plt.xlim(xmax=2)"
   ]
  },
  {
   "cell_type": "markdown",
   "id": "c1eb9ebf-5934-4d0c-9a76-995ae87a60ec",
   "metadata": {
    "slideshow": {
     "slide_type": "slide"
    }
   },
   "source": [
    "# Enkelt tidsdiskrét lavpassfilter\n",
    "\n",
    "- Et enkelt og mye brukt førsteordens lavpassfilter:\n",
    "  $$  y[k] = (1 - \\alpha) \\cdot u[k] + \\alpha \\cdot y[k - 1], \\quad 0 \\leq \\alpha < 1  $$\n",
    "  - Annet navn: «eksponentielt middelverdifilter»\n"
   ]
  },
  {
   "cell_type": "markdown",
   "id": "95cfc8cb-d699-44b5-b8e7-4e14046e6a14",
   "metadata": {
    "slideshow": {
     "slide_type": "slide"
    }
   },
   "source": [
    "# Sprangrespons for eksponentielt middelverdifilter\n",
    "\n",
    "- Differanseligning: \n",
    "$$y[k] = (1 - \\alpha) \\cdot u[k] + \\alpha \\cdot y[k - 1]$$\n",
    "  \n",
    "\n",
    "- Generell form:\n",
    "$$\\begin{align}\n",
    "u[k] &=\n",
    "\\begin{cases} \n",
    "0, & k < 0 \\\\ \n",
    "U, & k \\geq 1 \n",
    "\\end{cases} \\\\\n",
    "& \\Downarrow \\\\\n",
    "y[k] &=\n",
    "\\begin{cases} \n",
    "0, & k < 0 \\\\ \n",
    "U(1 - \\alpha^{k+1}), & k \\geq 0 \n",
    "\\end{cases}\n",
    "\\end{align}\n",
    "$$\n",
    "    - Ikke så ulikt responsen til en førsteordens differensialligning.\n"
   ]
  },
  {
   "cell_type": "markdown",
   "id": "f93e3344",
   "metadata": {
    "slideshow": {
     "slide_type": "slide"
    }
   },
   "source": [
    "### Kodeillustrasjon"
   ]
  },
  {
   "cell_type": "code",
   "execution_count": 1,
   "id": "4f3bc5d4",
   "metadata": {},
   "outputs": [
    {
     "data": {
      "application/vnd.jupyter.widget-view+json": {
       "model_id": "20f53e9fffbf4cfbb1959ffcbb00091d",
       "version_major": 2,
       "version_minor": 0
      },
      "text/plain": [
       "interactive(children=(FloatSlider(value=0.3, description='alpha', max=0.8999999999999999, min=-0.3), Output())…"
      ]
     },
     "metadata": {},
     "output_type": "display_data"
    }
   ],
   "source": [
    "from ipywidgets import interact\n",
    "\n",
    "@interact(alpha=0.3)\n",
    "def plot_exp_step(alpha):\n",
    "    # Utregning med dstep()\n",
    "    sys_disc = sig.TransferFunction([(1-alpha), 0],[1, -alpha], dt=1) # NB!\n",
    "    t_k, y_k = sys_disc.step()\n",
    "    y_k = y_k[0].flatten() # Scipy dstep() returnerer en tuple med kolonnevektor (god knows why)\n",
    "\n",
    "    # Plotting\n",
    "    plt.stairs(y_k[:-1], t_k, color='C1')\n",
    "    plt.xlabel('Samplenummer $k$')\n",
    "    plt.xlim(xmax=40)\n",
    "    plt.show()"
   ]
  },
  {
   "cell_type": "markdown",
   "id": "7ccab0d6-54db-4cdc-8ed4-00879bd5c8c9",
   "metadata": {
    "slideshow": {
     "slide_type": "slide"
    }
   },
   "source": [
    "# Hva med høyereordens LTI-system?\n"
   ]
  },
  {
   "cell_type": "markdown",
   "id": "39758f15-bb84-4049-87a2-af3aa5b2c0c7",
   "metadata": {
    "slideshow": {
     "slide_type": "fragment"
    }
   },
   "source": [
    "\n",
    "* Vi *kan* bruke samme tilnærming med å finne en tilnærming til $\\dot{u}(t)$, $\\ddot{u}(t)$, $\\dot{y}(t)$, $\\ddot{y}(t)$ osv...\n",
    "    * Tungt å utlede, og vanskelig å generalisere"
   ]
  },
  {
   "cell_type": "markdown",
   "id": "abd3fb21-a80b-40b9-8e3b-8d1f8bd56262",
   "metadata": {
    "slideshow": {
     "slide_type": "fragment"
    }
   },
   "source": [
    "* Tilstandsrom-modeller er ofte en mye enklere representasjon å diskretisere\n",
    "    - Vi skal se mer på tidsdiskrete tilstandsrom-modeller, samt noen enkle diskretiserings-eksempel i neste time"
   ]
  },
  {
   "cell_type": "markdown",
   "id": "f9f51cc8",
   "metadata": {
    "slideshow": {
     "slide_type": "slide"
    }
   },
   "source": [
    "# Andre Spørsmål?"
   ]
  }
 ],
 "metadata": {
  "celltoolbar": "Slideshow",
  "kernelspec": {
   "display_name": "Python 3 (ipykernel)",
   "language": "python",
   "name": "python3"
  },
  "language_info": {
   "codemirror_mode": {
    "name": "ipython",
    "version": 3
   },
   "file_extension": ".py",
   "mimetype": "text/x-python",
   "name": "python",
   "nbconvert_exporter": "python",
   "pygments_lexer": "ipython3",
   "version": "3.11.5"
  }
 },
 "nbformat": 4,
 "nbformat_minor": 5
}
