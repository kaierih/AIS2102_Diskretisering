{
 "cells": [
  {
   "cell_type": "code",
   "execution_count": 1,
   "id": "a239efa6-2f67-429b-b518-7887aeb33360",
   "metadata": {
    "slideshow": {
     "slide_type": "skip"
    }
   },
   "outputs": [],
   "source": [
    "# Generelle moduler og funksjonsbeskrivelser brukt i forelesningen\n",
    "from numpy import sin, cos, pi, exp, angle, abs, unwrap, log10\n",
    "import numpy as np\n",
    "import scipy.signal as sig\n",
    "import matplotlib.pyplot as plt\n",
    "\n",
    "plt.rcParams[\"figure.figsize\"] = [8.00, 4.5]\n",
    "plt.rcParams[\"figure.autolayout\"] = True\n",
    "plt.rcParams[\"axes.grid\"] = True\n",
    "plt.rcParams[\"axes.xmargin\"] = 0.0\n",
    "\n",
    "%matplotlib inline"
   ]
  },
  {
   "cell_type": "markdown",
   "id": "049baf46-e15f-4458-b5c4-643431a0b526",
   "metadata": {
    "slideshow": {
     "slide_type": "slide"
    }
   },
   "source": [
    "<img src=\"Figurer/NTNU_Logo.png\" align=\"left\" width=\"30%\">\n",
    "<br clear=\"all\" />\n",
    "<br></br>\n",
    "\n",
    "# Diskretisering time 3 -  *diskrete LTI-system i tilstandsrommet*\n",
    "\n",
    "* **Emne: AIS2102 - Dynamiske system**\n",
    "* ***dato***: 3. februar 2025\n",
    "* **Foreleser: Kai Erik Hoff**"
   ]
  },
  {
   "cell_type": "markdown",
   "id": "76f346ba-f2d8-46ab-9d45-e37862c6e305",
   "metadata": {},
   "source": [
    "# Differensialligning tidskontinuerlige system\n",
    "\n"
   ]
  },
  {
   "cell_type": "markdown",
   "id": "87055069-7e8e-4f63-b6ac-6e6c2abae751",
   "metadata": {},
   "source": [
    "# Tilstandsrom for tidskontinuerlige system\n",
    "\n",
    "\n",
    "* Ligninger:\n",
    "\n",
    "$$\\begin{align}\n",
    "\\boldsymbol{\\dot{x}}(t) &= \\boldsymbol{A}\\cdot \\boldsymbol{x}(t) + \\boldsymbol{B}\\cdot \\boldsymbol{u}(t)\\\\\n",
    "\\boldsymbol{y}(t) &= \\boldsymbol{C}\\cdot \\boldsymbol{x}(t) + \\boldsymbol{D}\\cdot \\boldsymbol{u}(t)\n",
    "\\end{align}$$"
   ]
  },
  {
   "cell_type": "markdown",
   "id": "f5a3ea9a-5218-449c-aecb-0deeb612998a",
   "metadata": {},
   "source": [
    "* Systemmodell\n",
    "\n",
    "<img src=\"Figurer/statespace/ss_cont.png\" style=\"width: 60%; margin-left: 15%\" />"
   ]
  },
  {
   "cell_type": "markdown",
   "id": "c883fc46-bdbe-4a8b-a98e-89318ac0034f",
   "metadata": {},
   "source": [
    "# Differanseligning for tidsdiskrete system"
   ]
  },
  {
   "cell_type": "markdown",
   "id": "d1794578-f3e4-460c-85d0-7400604a21b0",
   "metadata": {},
   "source": [
    "* Ligning:\n",
    "$$\n",
    "\\begin{align}\n",
    "a_0 \\cdot y[k] + a_1 \\cdot y[k-1] + \\ldots + a_N \\cdot y[k-N] &= b_0 \\cdot u[k] + b_1 \\cdot u[k-1] + \\ldots + b_M \\cdot u[k-M]\\\\\n",
    "\\sum_{i=0}^{N} a_i \\cdot y[k-i] &= \\sum_{i=0}^{M} b_i \\cdot u[k-i]\n",
    "\\end{align}\n",
    "$$"
   ]
  },
  {
   "cell_type": "markdown",
   "id": "5cdd419f-1f6b-4ed2-9c85-e2b2cf4c39a9",
   "metadata": {},
   "source": [
    "* Blokkskjema-representasjon\n",
    "\n",
    "<img src=\"Figurer/discrete_LTI/df1.png\" style=\"width: 70%; margin-left: 10%\" />"
   ]
  },
  {
   "cell_type": "markdown",
   "id": "c8a674b1-b36d-4826-94de-fd9dff089d8a",
   "metadata": {},
   "source": [
    "# Tilstandsrom for tidsdiskrete system\n",
    "\n",
    "\n"
   ]
  },
  {
   "cell_type": "markdown",
   "id": "909704f4-ec85-4de5-a83b-530486f3c310",
   "metadata": {},
   "source": [
    "\n",
    "* Ligninger:\n",
    "$$\\begin{align}\n",
    "\\boldsymbol{x}[k+1] &= \\boldsymbol{A}_d\\cdot \\boldsymbol{x}[k] + \\boldsymbol{B}_d\\cdot \\boldsymbol{u}[k] \\\\\n",
    "\\boldsymbol{y}[k] &= \\boldsymbol{C}_d\\cdot \\boldsymbol{x}[k] + \\boldsymbol{D}_d\\cdot \\boldsymbol{u}[k]\n",
    "\\end{align}$$"
   ]
  },
  {
   "cell_type": "markdown",
   "id": "09c5f5fd-29df-4a3a-a207-f06f4b5aa88a",
   "metadata": {},
   "source": [
    "* Systemmodell\n",
    "\n",
    "<img src=\"Figurer/statespace/ss_disc.png\" style=\"width: 60%; margin-left: 15%\" />"
   ]
  },
  {
   "cell_type": "code",
   "execution_count": null,
   "id": "8491ba52-e32c-44a6-9bc2-e24dac501d54",
   "metadata": {},
   "outputs": [],
   "source": []
  },
  {
   "cell_type": "markdown",
   "id": "8c129b79-45c0-452f-bf2b-9d9da138e219",
   "metadata": {},
   "source": [
    "# Differanseligning $\\rightarrow$ tilstandsrom"
   ]
  },
  {
   "cell_type": "markdown",
   "id": "111a68b3-8560-42af-adea-689d6cc21334",
   "metadata": {},
   "source": [
    "### Eksempel:\n",
    "\n",
    "* Finn matrisene $\\boldsymbol{A}_d$, $\\boldsymbol{B}_d$, $\\boldsymbol{C}_d$, $\\boldsymbol{D}_d$ for tilstandsrom-modellen til følgende differanseligning:\n",
    "$$y[k] - 0.8 \\cdot y[k-1] = 0.2\\cdot u[k-1]$$"
   ]
  },
  {
   "cell_type": "markdown",
   "id": "4100eda6-ac73-4a1d-a0be-5462d1f9df75",
   "metadata": {},
   "source": [
    "# Differanseligning $\\rightarrow$ tilstandsrom\n",
    "\n",
    "### Generelt matriseoppsett"
   ]
  },
  {
   "cell_type": "markdown",
   "id": "86e34ede-232b-4ef0-af3d-f1155152a886",
   "metadata": {},
   "source": [
    "* Dersom koeffisienten $b_0=0$:\n",
    "$$\\begin{align}\n",
    "&\\boldsymbol{A}_d= \n",
    "\\begin{bmatrix} \n",
    "0 & 1 & 0 & \\cdots \\\\\n",
    "0 & 0 & 1 & \\cdots \\\\\n",
    "\\vdots & \\vdots & \\vdots & \\ddots \\\\\n",
    "-\\frac{a_1}{a_0} & -\\frac{a_2}{a_0} & -\\frac{a_3}{a_0} & \\cdots\n",
    "\\end{bmatrix}\n",
    ", &\\boldsymbol{B}_d = \n",
    "\\begin{bmatrix}\n",
    "0 \\\\ 0 \\\\ \\vdots \\\\ 1\n",
    "\\end{bmatrix}\n",
    ",\\\\  & \\boldsymbol{C}_d = \n",
    "\\begin{bmatrix}\n",
    "b_1 & b_2 & \\cdots & b_N\n",
    "\\end{bmatrix}\n",
    ", &\\boldsymbol{D}_d = 0\n",
    "\\end{align}$$"
   ]
  },
  {
   "cell_type": "markdown",
   "id": "2b01d431-24f4-40e6-9176-c6b230a89e95",
   "metadata": {},
   "source": [
    "* For $b_0 \\neq 0$:\n",
    "\n",
    "$$\\begin{align}\n",
    "&\\boldsymbol{A}_d= \n",
    "\\begin{bmatrix} \n",
    "0 & 1 & 0 & \\cdots \\\\\n",
    "0 & 0 & 1 & \\cdots \\\\\n",
    "\\vdots & \\vdots & \\vdots & \\ddots \\\\\n",
    "\\frac{a_1}{a_0} & \\frac{a_2}{a_0} & \\frac{a_3}{a_0} & \\cdots\n",
    "\\end{bmatrix}\n",
    ", &\\boldsymbol{B}_d = \n",
    "\\begin{bmatrix}\n",
    "0 \\\\ 0 \\\\ \\vdots \\\\ 1\n",
    "\\end{bmatrix}\n",
    ",\\\\  & \\boldsymbol{C}_d = \n",
    "\\begin{bmatrix}\n",
    "\\left(b_1-b_0\\frac{a_1}{a_0}\\right) & \\left(b_2-b_0\\frac{a_2}{a_0}\\right) & \\cdots & \\left(b_N-b_0\\frac{a_N}{a_0}\\right)\n",
    "\\end{bmatrix}\n",
    ", &\\boldsymbol{D}_d = \\frac{b_0}{a_0}\n",
    "\\end{align}$$"
   ]
  }
 ],
 "metadata": {
  "kernelspec": {
   "display_name": "Python 3 (ipykernel)",
   "language": "python",
   "name": "python3"
  },
  "language_info": {
   "codemirror_mode": {
    "name": "ipython",
    "version": 3
   },
   "file_extension": ".py",
   "mimetype": "text/x-python",
   "name": "python",
   "nbconvert_exporter": "python",
   "pygments_lexer": "ipython3",
   "version": "3.11.5"
  }
 },
 "nbformat": 4,
 "nbformat_minor": 5
}
